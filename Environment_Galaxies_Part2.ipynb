{
 "cells": [
  {
   "cell_type": "code",
   "execution_count": 2,
   "metadata": {},
   "outputs": [
    {
     "name": "stdout",
     "output_type": "stream",
     "text": [
      "<HDF5 file \"COLOR_CDM_DM_subHaloes_z0.00_v2.hdf5\" (mode r)> <HDF5 file \"COLOR_WDM_DM_subHaloes_z0.00_v2.hdf5\" (mode r)> <HDF5 file \"COLOR_CDM_galaxies.hdf5\" (mode r)> <HDF5 file \"COLOR_WDM_galaxies.hdf5\" (mode r)>\n"
     ]
    }
   ],
   "source": [
    "from matplotlib import pyplot as plt\n",
    "import h5py\n",
    "import numpy as np\n",
    "from tqdm import *\n",
    "from scipy import spatial\n",
    "\n",
    "cdm = h5py.File('Data/COLOR_CDM_DM_subHaloes_z0.00_v2.hdf5', 'r')\n",
    "wdm = h5py.File('Data/COLOR_WDM_DM_subHaloes_z0.00_v2.hdf5', 'r')\n",
    "\n",
    "cdm_galaxy = h5py.File('Data\\COLOR_CDM_galaxies.hdf5', 'r')\n",
    "wdm_galaxy = h5py.File('Data\\COLOR_WDM_galaxies.hdf5', 'r')\n",
    "\n",
    "print(cdm,wdm,cdm_galaxy,wdm_galaxy)"
   ]
  },
  {
   "cell_type": "markdown",
   "metadata": {},
   "source": [
    "# Access the masses and positions of CDM and WDM halos"
   ]
  },
  {
   "cell_type": "code",
   "execution_count": 3,
   "metadata": {},
   "outputs": [
    {
     "name": "stdout",
     "output_type": "stream",
     "text": [
      "['IsCentral', 'R200', 'SubhaloMass', 'SubhaloPos'] ['IsCentral', 'R200', 'SubhaloMass', 'SubhaloPos']\n"
     ]
    },
    {
     "data": {
      "text/plain": [
       "(array([1.87617493e+14, 1.84468594e+14, 6.89978024e+13, ...,\n",
       "        1.76011232e+08, 1.76011232e+08, 1.76011232e+08]),\n",
       " array([[10.93832207, 81.23078918, 54.77935028],\n",
       "        [17.94562721, 79.86347961, 53.3843956 ],\n",
       "        [15.62266159, 78.18474579, 52.83857346],\n",
       "        ...,\n",
       "        [ 1.47748184,  3.54455233, 99.53264618],\n",
       "        [99.32190704,  2.56014371,  2.57368279],\n",
       "        [99.0621109 ,  4.18381071,  2.89533401]]),\n",
       " array([1.89941540e+14, 1.86912732e+14, 6.83256610e+13, ...,\n",
       "        1.76011232e+08, 1.76011232e+08, 1.76011232e+08]),\n",
       " array([[1.80150642e+01, 7.98655701e+01, 5.34328232e+01],\n",
       "        [1.09048624e+01, 8.12610779e+01, 5.48179703e+01],\n",
       "        [1.56323385e+01, 7.81665344e+01, 5.28157997e+01],\n",
       "        ...,\n",
       "        [6.02296066e+00, 5.05078554e+00, 9.79758301e+01],\n",
       "        [5.75055540e-01, 3.26677370e+00, 3.52767438e-01],\n",
       "        [2.07897183e-03, 3.23730040e+00, 9.97708917e-01]]))"
      ]
     },
     "execution_count": 3,
     "metadata": {},
     "output_type": "execute_result"
    }
   ],
   "source": [
    "# Access mass/position for wdm/cdm\n",
    "print(list(cdm.keys()),list(wdm.keys()))\n",
    "\n",
    "cdm_mass = cdm['SubhaloMass'][:]\n",
    "cdm_position = cdm['SubhaloPos'][:]\n",
    "\n",
    "wdm_mass = wdm['SubhaloMass'][:]\n",
    "wdm_position = wdm['SubhaloPos'][:]\n",
    "\n",
    "cdm_mass, cdm_position, wdm_mass, wdm_position"
   ]
  },
  {
   "cell_type": "markdown",
   "metadata": {},
   "source": [
    "### Filter out central halos below the resolution limit"
   ]
  },
  {
   "cell_type": "code",
   "execution_count": 4,
   "metadata": {},
   "outputs": [
    {
     "data": {
      "text/plain": [
       "440000000.0"
      ]
     },
     "execution_count": 4,
     "metadata": {},
     "output_type": "execute_result"
    }
   ],
   "source": [
    "m_res = 8.8*10**6*50\n",
    "m_res"
   ]
  },
  {
   "cell_type": "code",
   "execution_count": 5,
   "metadata": {},
   "outputs": [
    {
     "name": "stdout",
     "output_type": "stream",
     "text": [
      "[      0   20093   40287 ... 2633808 2633809 2633811]\n",
      "[1 1 1 ... 1 1 1]\n"
     ]
    }
   ],
   "source": [
    "# find the indices of all the central halos above the resolution limit\n",
    "cdm_central_ind = np.where((cdm['IsCentral'][:] == 1)&(cdm_mass>m_res))[0]\n",
    "\n",
    "print(cdm_central_ind)\n",
    "print(cdm['IsCentral'][:][cdm_central_ind])\n",
    "\n",
    "wdm_central_ind = np.where((wdm['IsCentral'][:] == 1)&(wdm_mass>m_res))[0]"
   ]
  },
  {
   "cell_type": "code",
   "execution_count": 6,
   "metadata": {},
   "outputs": [
    {
     "data": {
      "text/plain": [
       "1686837"
      ]
     },
     "execution_count": 6,
     "metadata": {},
     "output_type": "execute_result"
    }
   ],
   "source": [
    "#access the central positions\n",
    "cdm_position_central=cdm_position[cdm_central_ind]\n",
    "wdm_position_central=wdm_position[wdm_central_ind]\n",
    "\n",
    "#and the central masses\n",
    "cdm_mass_central=cdm_mass[cdm_central_ind]\n",
    "wdm_mass_central=wdm_mass[wdm_central_ind]\n",
    "\n",
    "len(cdm_mass_central)"
   ]
  },
  {
   "cell_type": "markdown",
   "metadata": {},
   "source": [
    "# Calculate the mass within a sphere"
   ]
  },
  {
   "cell_type": "code",
   "execution_count": 7,
   "metadata": {},
   "outputs": [],
   "source": [
    "#create the trees\n",
    "cdm_tree = spatial.cKDTree(cdm_position_central)\n",
    "wdm_tree = spatial.cKDTree(wdm_position_central)"
   ]
  },
  {
   "cell_type": "markdown",
   "metadata": {},
   "source": [
    "### First do CDM"
   ]
  },
  {
   "cell_type": "code",
   "execution_count": 8,
   "metadata": {},
   "outputs": [
    {
     "name": "stderr",
     "output_type": "stream",
     "text": [
      "100%|██████████████████████████████████████████████████████████████████████| 1686837/1686837 [11:22<00:00, 2473.02it/s]\n"
     ]
    }
   ],
   "source": [
    "# create an empty array for the mass of the spheres\n",
    "cdm_5Mpc_sphere_mass = []\n",
    "\n",
    "#iterate through each central halo\n",
    "for i in trange(len(cdm_central_ind)):\n",
    "    \n",
    "    #find the indices of all central halos in a 5 Mpc radius around each central halo\n",
    "    ind = cdm_tree.query_ball_point(cdm_position_central[i], 5)\n",
    "    \n",
    "    #sum the mass of these halos\n",
    "    cdm_5Mpc_sphere_mass.append(np.sum(cdm_mass_central[ind]))"
   ]
  },
  {
   "cell_type": "code",
   "execution_count": 28,
   "metadata": {},
   "outputs": [
    {
     "data": {
      "text/plain": [
       "(1686837, 1686837)"
      ]
     },
     "execution_count": 28,
     "metadata": {},
     "output_type": "execute_result"
    }
   ],
   "source": [
    "cdm_5Mpc_sphere_mass=np.array(cdm_5Mpc_sphere_mass)\n",
    "np.savetxt(\"Calculations/cdm_5Mpc_sphere_mass.txt\", cdm_5Mpc_sphere_mass, fmt = \"%f\")\n",
    "len(cdm_5Mpc_sphere_mass), len(cdm_central_ind)"
   ]
  },
  {
   "cell_type": "code",
   "execution_count": 9,
   "metadata": {},
   "outputs": [
    {
     "name": "stderr",
     "output_type": "stream",
     "text": [
      "100%|███████████████████████████████████████████████████████████████████████| 1686837/1686837 [49:29<00:00, 568.01it/s]\n"
     ]
    }
   ],
   "source": [
    "# create an empty array for the mass of the spheres\n",
    "cdm_10Mpc_sphere_mass = []\n",
    "\n",
    "#iterate through each central halo\n",
    "for i in trange(len(cdm_central_ind)):\n",
    "    \n",
    "    #find the indices of all halos in a 10 Mpc radius around each central halo\n",
    "    ind = cdm_tree.query_ball_point(cdm_position_central[i], 10)\n",
    "    \n",
    "    #sum the mass of these halos\n",
    "    cdm_10Mpc_sphere_mass.append(np.sum(cdm_mass_central[ind]))"
   ]
  },
  {
   "cell_type": "code",
   "execution_count": 29,
   "metadata": {},
   "outputs": [
    {
     "data": {
      "text/plain": [
       "(1686837, 1686837)"
      ]
     },
     "execution_count": 29,
     "metadata": {},
     "output_type": "execute_result"
    }
   ],
   "source": [
    "cdm_10Mpc_sphere_mass=np.array(cdm_10Mpc_sphere_mass)\n",
    "np.savetxt(\"Calculations/cdm_10Mpc_sphere_mass.txt\", cdm_10Mpc_sphere_mass, fmt = \"%f\")\n",
    "len(cdm_10Mpc_sphere_mass), len(cdm_central_ind)"
   ]
  },
  {
   "cell_type": "markdown",
   "metadata": {},
   "source": [
    "### Then WDM"
   ]
  },
  {
   "cell_type": "code",
   "execution_count": 10,
   "metadata": {},
   "outputs": [
    {
     "name": "stderr",
     "output_type": "stream",
     "text": [
      "100%|██████████████████████████████████████████████████████████████████████| 1123039/1123039 [04:27<00:00, 4197.78it/s]\n"
     ]
    }
   ],
   "source": [
    "# create an empty array for the mass of the spheres\n",
    "wdm_5Mpc_sphere_mass = []\n",
    "\n",
    "#iterate through each central halo\n",
    "for i in trange(len(wdm_central_ind)):\n",
    "    \n",
    "    #find the indices of all halos in a 5 Mpc radius around each central halo\n",
    "    ind = wdm_tree.query_ball_point(wdm_position_central[i], 5)\n",
    "    \n",
    "    #sum the mass of these halos\n",
    "    wdm_5Mpc_sphere_mass.append(np.sum(wdm_mass_central[ind]))"
   ]
  },
  {
   "cell_type": "code",
   "execution_count": 30,
   "metadata": {},
   "outputs": [
    {
     "data": {
      "text/plain": [
       "(1123039, 1123039)"
      ]
     },
     "execution_count": 30,
     "metadata": {},
     "output_type": "execute_result"
    }
   ],
   "source": [
    "wdm_5Mpc_sphere_mass=np.array(wdm_5Mpc_sphere_mass)\n",
    "np.savetxt(\"Calculations/wdm_5Mpc_sphere_mass.txt\", wdm_5Mpc_sphere_mass, fmt = \"%f\")\n",
    "len(wdm_5Mpc_sphere_mass), len(wdm_central_ind)"
   ]
  },
  {
   "cell_type": "code",
   "execution_count": 11,
   "metadata": {},
   "outputs": [
    {
     "name": "stderr",
     "output_type": "stream",
     "text": [
      "100%|███████████████████████████████████████████████████████████████████████| 1123039/1123039 [19:23<00:00, 965.45it/s]\n"
     ]
    }
   ],
   "source": [
    "# create an empty array for the mass of the spheres\n",
    "wdm_10Mpc_sphere_mass = []\n",
    "\n",
    "#iterate through each central halo\n",
    "for i in trange(len(wdm_central_ind)):\n",
    "    \n",
    "    #find the indices of all halos in a 10 Mpc radius around each central halo\n",
    "    ind = wdm_tree.query_ball_point(wdm_position_central[i], 10)\n",
    "    \n",
    "    #sum the mass of these halos\n",
    "    wdm_10Mpc_sphere_mass.append(np.sum(wdm_mass_central[ind]))"
   ]
  },
  {
   "cell_type": "code",
   "execution_count": 31,
   "metadata": {},
   "outputs": [
    {
     "data": {
      "text/plain": [
       "(1123039, 1123039)"
      ]
     },
     "execution_count": 31,
     "metadata": {},
     "output_type": "execute_result"
    }
   ],
   "source": [
    "wdm_10Mpc_sphere_mass=np.array(wdm_10Mpc_sphere_mass)\n",
    "np.savetxt(\"Calculations/wdm_10Mpc_sphere_mass.txt\", wdm_10Mpc_sphere_mass, fmt = \"%f\")\n",
    "len(wdm_10Mpc_sphere_mass), len(wdm_central_ind)"
   ]
  },
  {
   "cell_type": "markdown",
   "metadata": {},
   "source": [
    "# Calculate the envelope mass"
   ]
  },
  {
   "cell_type": "code",
   "execution_count": 17,
   "metadata": {},
   "outputs": [],
   "source": [
    "cdm_5Mpc_sphere_mass = np.genfromtxt(\"Calculations/cdm_5Mpc_sphere_mass.txt\")\n",
    "wdm_5Mpc_sphere_mass = np.genfromtxt(\"Calculations/wdm_5Mpc_sphere_mass.txt\")"
   ]
  },
  {
   "cell_type": "code",
   "execution_count": 18,
   "metadata": {},
   "outputs": [],
   "source": [
    "cdm_10Mpc_sphere_mass = np.genfromtxt(\"Calculations/cdm_10Mpc_sphere_mass.txt\")\n",
    "wdm_10Mpc_sphere_mass = np.genfromtxt(\"Calculations/wdm_10Mpc_sphere_mass.txt\")"
   ]
  },
  {
   "cell_type": "code",
   "execution_count": 18,
   "metadata": {},
   "outputs": [
    {
     "data": {
      "text/plain": [
       "(1686837, 1123039, array([2.30475009e+14, 2.11744232e+14, 8.66963769e+13, ...,\n",
       "        1.17753809e+13, 1.48210265e+13, 3.91143610e+12]), array([2.43274622e+14, 2.12183101e+14, 8.18718559e+13, ...,\n",
       "        1.89969544e+13, 8.35765614e+12, 4.01062728e+12]))"
      ]
     },
     "execution_count": 18,
     "metadata": {},
     "output_type": "execute_result"
    }
   ],
   "source": [
    "cdm_envelope_mass=cdm_10Mpc_sphere_mass-cdm_5Mpc_sphere_mass\n",
    "wdm_envelope_mass=wdm_10Mpc_sphere_mass-wdm_5Mpc_sphere_mass\n",
    "len(cdm_envelope_mass),len(wdm_envelope_mass),cdm_envelope_mass, wdm_envelope_mass"
   ]
  },
  {
   "cell_type": "markdown",
   "metadata": {},
   "source": [
    "# Check with histograms"
   ]
  },
  {
   "cell_type": "code",
   "execution_count": 19,
   "metadata": {},
   "outputs": [
    {
     "data": {
      "image/png": "[encoded data removed]",
      "text/plain": [
       "<Figure size 432x288 with 1 Axes>"
      ]
     },
     "metadata": {
      "needs_background": "light"
     },
     "output_type": "display_data"
    }
   ],
   "source": [
    "bins=np.logspace(np.log10(1e12),np.log10(1e15), 50)\n",
    "plt.hist(cdm_envelope_mass,bins=bins,label='CDM')\n",
    "plt.hist(wdm_envelope_mass,bins=bins,label='WDM')\n",
    "plt.xscale(\"Log\")\n",
    "plt.xlabel(\"Total Mass (M$_{\\odot}$)\", fontsize=16)\n",
    "plt.title(\"Histogram of Envelopes\", fontsize=16)\n",
    "plt.legend()\n",
    "plt.show()"
   ]
  },
  {
   "cell_type": "code",
   "execution_count": 20,
   "metadata": {},
   "outputs": [],
   "source": [
    "frac = 20.0\n",
    "th_low_cdm = np.percentile(cdm_envelope_mass,frac)\n",
    "th_top_cdm = np.percentile(cdm_envelope_mass,100.-frac)\n",
    "th_low_wdm = np.percentile(wdm_envelope_mass,frac)\n",
    "th_top_wdm = np.percentile(wdm_envelope_mass,100.-frac)\n",
    "\n",
    "cdm_top_envelope_mass = cdm_envelope_mass[cdm_envelope_mass>th_top_cdm]\n",
    "cdm_low_envelope_mass = cdm_envelope_mass[cdm_envelope_mass<th_low_cdm]\n",
    "wdm_top_envelope_mass = wdm_envelope_mass[wdm_envelope_mass>th_top_wdm]\n",
    "wdm_low_envelope_mass = wdm_envelope_mass[wdm_envelope_mass<th_low_wdm]"
   ]
  },
  {
   "cell_type": "code",
   "execution_count": 21,
   "metadata": {},
   "outputs": [
    {
     "data": {
      "image/png": "[encoded data removed]",
      "text/plain": [
       "<Figure size 432x288 with 1 Axes>"
      ]
     },
     "metadata": {
      "needs_background": "light"
     },
     "output_type": "display_data"
    }
   ],
   "source": [
    "bins=np.logspace(np.log10(1e12),np.log10(1e15), 50)\n",
    "plt.hist(cdm_top_envelope_mass, bins=bins,label='CDM',color='blue')\n",
    "plt.hist(cdm_low_envelope_mass,bins=bins,color='blue')\n",
    "plt.hist(wdm_top_envelope_mass, bins=bins,label='WDM',color='red')\n",
    "plt.hist(wdm_low_envelope_mass,bins=bins,color='red')\n",
    "plt.xscale(\"Log\")\n",
    "plt.xlabel(\"Total Mass (M$_{\\odot}$)\", fontsize=16)\n",
    "plt.title(\"Histogram of Envelopes\", fontsize=16)\n",
    "plt.legend()\n",
    "plt.show()"
   ]
  },
  {
   "cell_type": "markdown",
   "metadata": {},
   "source": [
    "# Find the corresponding galaxies!\n",
    "### First access the positions of CDM and WDM galaxies"
   ]
  },
  {
   "cell_type": "code",
   "execution_count": 23,
   "metadata": {},
   "outputs": [
    {
     "name": "stdout",
     "output_type": "stream",
     "text": [
      "['Colour', 'GalaxyPos', 'IsCentral', 'StellarMass'] ['Colour', 'GalaxyPos', 'IsCentral', 'StellarMass']\n"
     ]
    },
    {
     "data": {
      "text/plain": [
       "(array([[17.43208122, 80.25539398, 54.00876999],\n",
       "        [17.43210793, 80.22522736, 53.97425079],\n",
       "        [19.06316185, 80.02703857, 54.18655014],\n",
       "        ...,\n",
       "        [67.22305298, 64.69418335, 36.19010544],\n",
       "        [ 7.28926134, 78.05925751, 49.41135025],\n",
       "        [ 6.75961494, 77.04682159, 48.55372238]]),\n",
       " array([[17.61932182, 79.06235504, 52.68593979],\n",
       "        [18.65647697, 80.58162689, 52.30108261],\n",
       "        [18.58250046, 80.91363525, 52.45199203],\n",
       "        ...,\n",
       "        [76.68208313, 28.50509262, 59.96631622],\n",
       "        [33.62237167,  9.74790382,  4.82571173],\n",
       "        [52.58901978, 44.79496765, 78.47211456]]))"
      ]
     },
     "execution_count": 23,
     "metadata": {},
     "output_type": "execute_result"
    }
   ],
   "source": [
    "print(list(cdm_galaxy.keys()),list(wdm_galaxy.keys()))\n",
    "\n",
    "cdm_galaxy_position = cdm_galaxy['GalaxyPos'][:]\n",
    "wdm_galaxy_position = wdm_galaxy['GalaxyPos'][:]\n",
    "\n",
    "cdm_galaxy_position, wdm_galaxy_position"
   ]
  },
  {
   "cell_type": "code",
   "execution_count": 24,
   "metadata": {},
   "outputs": [],
   "source": [
    "#make a tree of galaxies to query\n",
    "cdm_galaxy_tree = spatial.cKDTree(cdm_galaxy_position)\n",
    "wdm_galaxy_tree = spatial.cKDTree(wdm_galaxy_position)"
   ]
  },
  {
   "cell_type": "code",
   "execution_count": 25,
   "metadata": {},
   "outputs": [
    {
     "name": "stderr",
     "output_type": "stream",
     "text": [
      "100%|██████████████████████████████████████████████████████████████████████| 1686837/1686837 [11:16<00:00, 2493.96it/s]\n"
     ]
    }
   ],
   "source": [
    "# create an empty array for the number of galaxies\n",
    "cdm_galaxy_abundance = []\n",
    "\n",
    "#iterate through each central halo\n",
    "for i in trange(len(cdm_central_ind)):\n",
    "    \n",
    "    #find the indices of all galaxies within the virial radius around each central halo\n",
    "    ind = cdm_galaxy_tree.query_ball_point(cdm_position_central[i],cdm['R200'][cdm_central_ind[i]])\n",
    "    \n",
    "    #sum the number of galaxies found within each host halo\n",
    "    cdm_galaxy_abundance.append(len(ind))\n",
    "    \n",
    "    #check that only one central galaxy is assigned to each host halo\n",
    "    central_abundance=np.sum(cdm_galaxy['IsCentral'][ind])\n",
    "    if central_abundance>1:\n",
    "        print(i,central_abundance,ind)\n",
    "        break"
   ]
  },
  {
   "cell_type": "code",
   "execution_count": 35,
   "metadata": {},
   "outputs": [
    {
     "data": {
      "text/plain": [
       "(1686837, 1686837)"
      ]
     },
     "execution_count": 35,
     "metadata": {},
     "output_type": "execute_result"
    }
   ],
   "source": [
    "cdm_galaxy_abundance=np.array(cdm_galaxy_abundance)\n",
    "np.savetxt(\"Calculations/cdm_galaxy_abundance.txt\", cdm_galaxy_abundance, fmt = \"%f\")\n",
    "len(cdm_galaxy_abundance), len(cdm_central_ind)"
   ]
  },
  {
   "cell_type": "code",
   "execution_count": 36,
   "metadata": {},
   "outputs": [
    {
     "name": "stderr",
     "output_type": "stream",
     "text": [
      "100%|██████████████████████████████████████████████████████████████████████| 1123039/1123039 [06:59<00:00, 2678.23it/s]\n"
     ]
    }
   ],
   "source": [
    "# create an empty array for the number of galaxies\n",
    "wdm_galaxy_abundance = []\n",
    "\n",
    "#iterate through each central halo\n",
    "for i in trange(len(wdm_central_ind)):\n",
    "    \n",
    "    #find the indices of all galaxies within the virial radius around each central halo\n",
    "    ind = cdm_galaxy_tree.query_ball_point(wdm_position_central[i],wdm['R200'][cdm_central_ind[i]])\n",
    "    \n",
    "    #sum the number of galaxies found within each host halo\n",
    "    wdm_galaxy_abundance.append(len(ind))\n",
    "    \n",
    "    #check that only one central galaxy is assigned to each host halo\n",
    "    central_abundance=np.sum(cdm_galaxy['IsCentral'][ind])\n",
    "    if wdm_central_abundance>1:\n",
    "        print(i,central_abundance,ind)\n",
    "        break"
   ]
  },
  {
   "cell_type": "code",
   "execution_count": 44,
   "metadata": {},
   "outputs": [
    {
     "data": {
      "text/plain": [
       "(1123039, 1123039)"
      ]
     },
     "execution_count": 44,
     "metadata": {},
     "output_type": "execute_result"
    }
   ],
   "source": [
    "wdm_galaxy_abundance=np.array(wdm_galaxy_abundance)\n",
    "np.savetxt(\"Calculations/wdm_galaxy_abundance.txt\", wdm_galaxy_abundance, fmt = \"%f\")\n",
    "len(wdm_galaxy_abundance), len(wdm_central_ind)"
   ]
  },
  {
   "cell_type": "markdown",
   "metadata": {},
   "source": [
    "# Compare galaxy abundance in the most/least dense environments"
   ]
  },
  {
   "cell_type": "code",
   "execution_count": 23,
   "metadata": {},
   "outputs": [],
   "source": [
    "cdm_galaxy_abundance = np.genfromtxt(\"Calculations/cdm_galaxy_abundance.txt\")\n",
    "wdm_galaxy_abundance = np.genfromtxt(\"Calculations/wdm_galaxy_abundance.txt\")"
   ]
  },
  {
   "cell_type": "code",
   "execution_count": 24,
   "metadata": {},
   "outputs": [],
   "source": [
    "cdm_top_galaxy_abundance = cdm_galaxy_abundance[cdm_envelope_mass>th_top_cdm]\n",
    "cdm_low_galaxy_abundance = cdm_galaxy_abundance[cdm_envelope_mass<th_low_cdm]\n",
    "wdm_top_galaxy_abundance = wdm_galaxy_abundance[wdm_envelope_mass>th_top_wdm]\n",
    "wdm_low_galaxy_abundance = wdm_galaxy_abundance[wdm_envelope_mass<th_low_wdm]"
   ]
  },
  {
   "cell_type": "code",
   "execution_count": 25,
   "metadata": {},
   "outputs": [
    {
     "data": {
      "image/png": "[encoded data removed]",
      "text/plain": [
       "<Figure size 432x288 with 1 Axes>"
      ]
     },
     "metadata": {
      "needs_background": "light"
     },
     "output_type": "display_data"
    }
   ],
   "source": [
    "plt.scatter(cdm_low_envelope_mass,cdm_low_galaxy_abundance,color='blue',\n",
    "            label='CDM: '+np.str(np.sum(cdm_low_galaxy_abundance))+' galaxies')\n",
    "plt.scatter(wdm_low_envelope_mass,wdm_low_galaxy_abundance,color='red',\n",
    "            label='WDM: '+np.str(np.sum(wdm_low_galaxy_abundance))+' galaxies')\n",
    "plt.scatter(cdm_top_envelope_mass,cdm_top_galaxy_abundance,color='blue',\n",
    "            label='CDM: '+np.str(np.sum(cdm_top_galaxy_abundance))+' galaxies')\n",
    "plt.scatter(wdm_top_envelope_mass,wdm_top_galaxy_abundance,color='red',\n",
    "            label='WDM: '+np.str(np.sum(wdm_top_galaxy_abundance))+' galaxies')\n",
    "plt.legend(ncol=2,bbox_to_anchor=(0., 1.1, 1., .102),loc='upper center')\n",
    "plt.xlabel(\"Total Mass of Envelope(M$_{\\odot}$)\", fontsize=16)\n",
    "plt.ylabel(\"Abundance of Galaxies\",fontsize=16)\n",
    "plt.xlim(10e11,10e14)\n",
    "plt.xscale(\"Log\")\n",
    "plt.show()"
   ]
  },
  {
   "cell_type": "markdown",
   "metadata": {},
   "source": [
    "### Total galaxies in the least dense environments"
   ]
  },
  {
   "cell_type": "code",
   "execution_count": 26,
   "metadata": {},
   "outputs": [
    {
     "name": "stdout",
     "output_type": "stream",
     "text": [
      "CDM: 54556.0\n",
      "WDM: 18476.0\n"
     ]
    }
   ],
   "source": [
    "print('CDM:',np.sum(cdm_low_galaxy_abundance))\n",
    "print('WDM:',np.sum(wdm_low_galaxy_abundance))"
   ]
  },
  {
   "cell_type": "markdown",
   "metadata": {},
   "source": [
    "### Total galaxies in the most dense environments"
   ]
  },
  {
   "cell_type": "code",
   "execution_count": 27,
   "metadata": {},
   "outputs": [
    {
     "name": "stdout",
     "output_type": "stream",
     "text": [
      "CDM: 163691.0\n",
      "WDM: 23719.0\n"
     ]
    }
   ],
   "source": [
    "print('CDM:',np.sum(cdm_top_galaxy_abundance))\n",
    "print('WDM:',np.sum(wdm_top_galaxy_abundance))"
   ]
  },
  {
   "cell_type": "code",
   "execution_count": null,
   "metadata": {},
   "outputs": [],
   "source": []
  }
 ],
 "metadata": {
  "kernelspec": {
   "display_name": "Python 3",
   "language": "python",
   "name": "python3"
  }
 },
 "nbformat": 4,
 "nbformat_minor": 2
}
