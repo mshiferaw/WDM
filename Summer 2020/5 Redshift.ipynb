{
 "cells": [
  {
   "cell_type": "code",
   "execution_count": 1,
   "metadata": {},
   "outputs": [
    {
     "name": "stdout",
     "output_type": "stream",
     "text": [
      "<HDF5 file \"COLOR_CDM_Galaxies_z0.20.hdf5\" (mode r)> <HDF5 file \"COLOR_WDM_Galaxies_z0.20.hdf5\" (mode r)>\n"
     ]
    }
   ],
   "source": [
    "from matplotlib import pyplot as plt\n",
    "import h5py\n",
    "import numpy as np\n",
    "import matplotlib.gridspec as gridspec\n",
    "import random\n",
    "from astroML.correlation import two_point\n",
    "\n",
    "z=\"{:.2f}\".format(0.20) # repeat for all redshifts\n",
    "cdm_galaxy = h5py.File('Data/n/home07/sbose/COLOR_CDM_Galaxies_z'+z+'.hdf5', 'r')\n",
    "wdm_galaxy = h5py.File('Data/n/home07/sbose/COLOR_WDM_Galaxies_z'+z+'.hdf5', 'r')\n",
    "\n",
    "print(cdm_galaxy,wdm_galaxy)"
   ]
  },
  {
   "cell_type": "markdown",
   "metadata": {},
   "source": [
    "# Access the masses and positions of CDM and WDM galaxies"
   ]
  },
  {
   "cell_type": "code",
   "execution_count": 2,
   "metadata": {},
   "outputs": [
    {
     "name": "stdout",
     "output_type": "stream",
     "text": [
      "['Colour', 'GalaxyPos', 'IsCentral', 'StellarMass'] ['Colour', 'GalaxyPos', 'IsCentral', 'StellarMass']\n"
     ]
    },
    {
     "data": {
      "text/plain": [
       "(array([0.26351547, 0.26975822, 0.55730152, ..., 0.60256481, 0.60255599,\n",
       "        0.60209143]), array([[18.13657761, 80.13793945, 52.1907692 ],\n",
       "        [20.0150547 , 78.72826385, 53.95800018],\n",
       "        [20.30582809, 79.4005127 , 53.66751862],\n",
       "        ...,\n",
       "        [78.52874756, 83.88411713, 62.66805267],\n",
       "        [97.82990265, 36.0692482 , 37.34383011],\n",
       "        [ 7.79859877, 48.99835968, 51.00095749]]), array([2.18818500e+06, 3.09918325e+06, 8.09408625e+05, ...,\n",
       "        1.59784888e+03, 1.56134949e+03, 1.61065710e+03]))"
      ]
     },
     "execution_count": 2,
     "metadata": {},
     "output_type": "execute_result"
    }
   ],
   "source": [
    "# Access mass/position for wdm/cdm\n",
    "print(list(cdm_galaxy.keys()),list(wdm_galaxy.keys()))\n",
    "\n",
    "cdm_galaxy_color = cdm_galaxy['Colour'][:]\n",
    "cdm_galaxy_position = cdm_galaxy['GalaxyPos'][:]\n",
    "cdm_galaxy_mass = cdm_galaxy['StellarMass'][:]\n",
    "\n",
    "wdm_galaxy_color = wdm_galaxy['Colour'][:]\n",
    "wdm_galaxy_position = wdm_galaxy['GalaxyPos'][:]\n",
    "wdm_galaxy_mass = wdm_galaxy['StellarMass'][:]\n",
    "\n",
    "cdm_galaxy_color, cdm_galaxy_position, cdm_galaxy_mass, \n",
    "wdm_galaxy_color, wdm_galaxy_position, wdm_galaxy_mass"
   ]
  },
  {
   "cell_type": "markdown",
   "metadata": {},
   "source": [
    "# Compute the galaxy positions at fixed abundance\n",
    "### Send the galaxy positions to Odyssey at n =  $\\sim$0.33, $\\sim$0.14, and 0.03 Galaxy/Mpc$^3$"
   ]
  },
  {
   "cell_type": "code",
   "execution_count": 3,
   "metadata": {},
   "outputs": [],
   "source": [
    "# sort in order of descending mass\n",
    "cdm_ind = sorted(range(len(cdm_galaxy_mass)), key=lambda k: cdm_galaxy_mass[k], reverse = True)\n",
    "wdm_ind = sorted(range(len(wdm_galaxy_mass)), key=lambda k: wdm_galaxy_mass[k], reverse = True)"
   ]
  },
  {
   "cell_type": "code",
   "execution_count": 4,
   "metadata": {},
   "outputs": [],
   "source": [
    "# iterate through each galaxy number density\n",
    "for n in [326952,136834,30000]:\n",
    "    \n",
    "    # label the galaxy positions correctly\n",
    "    label=\"_galaxy_position_z\"+z+\"_n{:.2f}\".format(n/100**3)\n",
    "    \n",
    "    # save the galaxy positions\n",
    "    np.savetxt(\"Calculations/cdm\"+label+\".txt\", cdm_galaxy_position[cdm_ind[:n]], fmt = \"%f %f %f\")\n",
    "    np.savetxt(\"Calculations/wdm\"+label+\".txt\", wdm_galaxy_position[wdm_ind[:n]], fmt = \"%f %f %f\")"
   ]
  },
  {
   "cell_type": "markdown",
   "metadata": {},
   "source": [
    "### Split the data by color!"
   ]
  },
  {
   "cell_type": "code",
   "execution_count": 5,
   "metadata": {},
   "outputs": [],
   "source": [
    "# define the red and blue galaxies for CDM\n",
    "cdm_blue = np.array(cdm_galaxy_color)[np.where(cdm_galaxy_color < 0.5)]\n",
    "cdm_red = np.array(cdm_galaxy_color)[np.where(cdm_galaxy_color > 0.5)]\n",
    "\n",
    "# define the red and blue galaxies for WDM\n",
    "wdm_blue = np.array(wdm_galaxy_color)[np.where(wdm_galaxy_color < 0.5)]\n",
    "wdm_red = np.array(wdm_galaxy_color)[np.where(wdm_galaxy_color > 0.5)]"
   ]
  },
  {
   "cell_type": "code",
   "execution_count": 6,
   "metadata": {},
   "outputs": [],
   "source": [
    "# sort the blue galaxies in order of descending mass\n",
    "cdm_blue_ind = sorted(range(len(cdm_blue)), key=lambda k: cdm_galaxy_mass[k], reverse = True)\n",
    "wdm_blue_ind = sorted(range(len(wdm_blue)), key=lambda k: wdm_galaxy_mass[k], reverse = True)\n",
    "\n",
    "# sort the red galaxies in order of descending mass\n",
    "cdm_red_ind = sorted(range(len(cdm_red)), key=lambda k: cdm_galaxy_mass[k], reverse = True)\n",
    "wdm_red_ind = sorted(range(len(wdm_red)), key=lambda k: wdm_galaxy_mass[k], reverse = True)"
   ]
  },
  {
   "cell_type": "code",
   "execution_count": 7,
   "metadata": {},
   "outputs": [],
   "source": [
    "# obtain the positions of blue and red galaxies in CDM\n",
    "cdm_blue_galaxy_position = np.array(cdm_galaxy_position)[cdm_blue_ind[:n]]\n",
    "cdm_red_galaxy_position = np.array(cdm_galaxy_position)[cdm_red_ind[:n]]\n",
    "\n",
    "# obtain the positions of blue and red galaxies in WDM\n",
    "wdm_blue_galaxy_position = np.array(wdm_galaxy_position)[wdm_blue_ind[:n]]\n",
    "wdm_red_galaxy_position = np.array(wdm_galaxy_position)[wdm_red_ind[:n]]"
   ]
  },
  {
   "cell_type": "code",
   "execution_count": 8,
   "metadata": {},
   "outputs": [],
   "source": [
    "# iterate through each galaxy number density\n",
    "for n in [326952,136834,30000]:\n",
    "    \n",
    "    # label the galaxy positions correctly\n",
    "    label=\"_galaxy_position_z\"+z+\"_n{:.2f}\".format(n/100**3)\n",
    "\n",
    "    # save the blue galaxy positions\n",
    "    np.savetxt(\"Calculations/cdm_blue\"+label+\".txt\", cdm_blue_galaxy_position, fmt = \"%f %f %f\")\n",
    "    np.savetxt(\"Calculations/wdm_blue\"+label+\".txt\", wdm_blue_galaxy_position, fmt = \"%f %f %f\")\n",
    "\n",
    "    # save the red galaxy positions\n",
    "    np.savetxt(\"Calculations/cdm_red\"+label+\".txt\", cdm_red_galaxy_position, fmt = \"%f %f %f\")\n",
    "    np.savetxt(\"Calculations/wdm_red\"+label+\".txt\", wdm_red_galaxy_position, fmt = \"%f %f %f\")"
   ]
  }
 ],
 "metadata": {
  "kernelspec": {
   "display_name": "Python 3",
   "language": "python",
   "name": "python3"
  },
  "language_info": {
   "codemirror_mode": {
    "name": "ipython",
    "version": 3
   },
   "file_extension": ".py",
   "mimetype": "text/x-python",
   "name": "python",
   "nbconvert_exporter": "python",
   "pygments_lexer": "ipython3",
   "version": "3.6.8"
  }
 },
 "nbformat": 4,
 "nbformat_minor": 2
}
