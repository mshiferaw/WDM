{
 "cells": [
  {
   "cell_type": "code",
   "execution_count": 1,
   "metadata": {},
   "outputs": [
    {
     "name": "stdout",
     "output_type": "stream",
     "text": [
      "<HDF5 file \"COLOR_CDM_DM_subHaloes_z0.00_v2.hdf5\" (mode r)> <HDF5 file \"COLOR_WDM_DM_subHaloes_z0.00_v2.hdf5\" (mode r)>\n"
     ]
    }
   ],
   "source": [
    "from matplotlib import pyplot as plt\n",
    "import h5py\n",
    "import numpy as np\n",
    "import matplotlib.gridspec as gridspec\n",
    "from scipy import spatial\n",
    "from tqdm import *\n",
    "import random\n",
    "\n",
    "cdm = h5py.File('Data/COLOR_CDM_DM_subHaloes_z0.00_v2.hdf5', 'r')\n",
    "wdm = h5py.File('Data/COLOR_WDM_DM_subHaloes_z0.00_v2.hdf5', 'r')\n",
    "\n",
    "cdm_galaxy = h5py.File('Data\\COLOR_CDM_galaxies.hdf5', 'r')\n",
    "wdm_galaxy = h5py.File('Data\\COLOR_WDM_galaxies.hdf5', 'r')\n",
    "\n",
    "print(cdm,wdm)"
   ]
  },
  {
   "cell_type": "markdown",
   "metadata": {},
   "source": [
    "# Find all galaxies that are as heavy as the Milky Way\n",
    "### Access the masses and positions of CDM and WDM galaxies"
   ]
  },
  {
   "cell_type": "code",
   "execution_count": 2,
   "metadata": {},
   "outputs": [
    {
     "name": "stdout",
     "output_type": "stream",
     "text": [
      "['Colour', 'GalaxyPos', 'IsCentral', 'StellarMass'] ['Colour', 'GalaxyPos', 'IsCentral', 'StellarMass']\n"
     ]
    },
    {
     "data": {
      "text/plain": [
       "(array([0.32435036, 0.58950651, 0.32047844, ..., 0.58985472, 0.3150177 ,\n",
       "        0.60267353]),\n",
       " array([[17.43208122, 80.25539398, 54.00876999],\n",
       "        [17.43210793, 80.22522736, 53.97425079],\n",
       "        [19.06316185, 80.02703857, 54.18655014],\n",
       "        ...,\n",
       "        [67.22305298, 64.69418335, 36.19010544],\n",
       "        [ 7.28926134, 78.05925751, 49.41135025],\n",
       "        [ 6.75961494, 77.04682159, 48.55372238]]),\n",
       " array([2.37800096e+08, 1.14038586e+03, 4.39743280e+07, ...,\n",
       "        6.31516409e+00, 3.49365275e+06, 2.19290527e+04]),\n",
       " array([0.29584217, 0.29859257, 0.59355354, ..., 0.32156372, 0.59656096,\n",
       "        0.32803154]),\n",
       " array([[17.61932182, 79.06235504, 52.68593979],\n",
       "        [18.65647697, 80.58162689, 52.30108261],\n",
       "        [18.58250046, 80.91363525, 52.45199203],\n",
       "        ...,\n",
       "        [76.68208313, 28.50509262, 59.96631622],\n",
       "        [33.62237167,  9.74790382,  4.82571173],\n",
       "        [52.58901978, 44.79496765, 78.47211456]]),\n",
       " array([3873670.  , 5328977.  , 1002360.25, ..., 2697151.5 ,  542400.5 ,\n",
       "        2462471.  ]))"
      ]
     },
     "execution_count": 2,
     "metadata": {},
     "output_type": "execute_result"
    }
   ],
   "source": [
    "# Access mass/position for wdm/cdm\n",
    "print(list(cdm_galaxy.keys()),list(wdm_galaxy.keys()))\n",
    "\n",
    "cdm_galaxy_color = cdm_galaxy[list(cdm_galaxy.keys())[0]][:]\n",
    "cdm_galaxy_position = cdm_galaxy[list(cdm_galaxy.keys())[1]][:]\n",
    "cdm_galaxy_mass = cdm_galaxy[list(cdm_galaxy.keys())[3]][:]\n",
    "\n",
    "wdm_galaxy_color = wdm_galaxy[list(wdm_galaxy.keys())[0]][:]\n",
    "wdm_galaxy_position = wdm_galaxy[list(cdm_galaxy.keys())[1]][:]\n",
    "wdm_galaxy_mass = wdm_galaxy[list(wdm_galaxy.keys())[3]][:]\n",
    "\n",
    "cdm_galaxy_color, cdm_galaxy_position, cdm_galaxy_mass, wdm_galaxy_color, wdm_galaxy_position, wdm_galaxy_mass"
   ]
  },
  {
   "cell_type": "markdown",
   "metadata": {},
   "source": [
    "### Find all central galaxies within the mass range $2-6*10^{10}$ M$_{\\odot}$"
   ]
  },
  {
   "cell_type": "code",
   "execution_count": 3,
   "metadata": {},
   "outputs": [],
   "source": [
    "# get the indices\n",
    "cdm_MW_galaxy_ind = np.where((cdm_galaxy_mass>2*10**10) & (cdm_galaxy_mass<6*10**10) & (cdm_galaxy['IsCentral'][:]==1))[0]\n",
    "wdm_MW_galaxy_ind = np.where((wdm_galaxy_mass>2*10**10) & (wdm_galaxy_mass<6*10**10) & (wdm_galaxy['IsCentral'][:]==1))[0]"
   ]
  },
  {
   "cell_type": "code",
   "execution_count": 4,
   "metadata": {},
   "outputs": [],
   "source": [
    "# get the positions\n",
    "cdm_MW_galaxy_position = cdm_galaxy_position[cdm_MW_galaxy_ind]\n",
    "wdm_MW_galaxy_position = wdm_galaxy_position[wdm_MW_galaxy_ind]"
   ]
  },
  {
   "cell_type": "markdown",
   "metadata": {},
   "source": [
    "### Set a minimum mass of galaxies to search through"
   ]
  },
  {
   "cell_type": "code",
   "execution_count": 5,
   "metadata": {},
   "outputs": [],
   "source": [
    "# get the indices\n",
    "m_min=0\n",
    "cdm_galaxy_filtered_ind = np.where(cdm_galaxy_mass > m_min)[0]\n",
    "wdm_galaxy_filtered_ind = np.where(wdm_galaxy_mass > m_min)[0]"
   ]
  },
  {
   "cell_type": "code",
   "execution_count": 6,
   "metadata": {},
   "outputs": [],
   "source": [
    "# get the positions\n",
    "cdm_galaxy_position_filtered = cdm_galaxy_position[cdm_galaxy_filtered_ind]\n",
    "wdm_galaxy_position_filtered = wdm_galaxy_position[wdm_galaxy_filtered_ind]"
   ]
  },
  {
   "cell_type": "markdown",
   "metadata": {},
   "source": [
    "### Find all the galaxies within 3 Mpc of each MW-sized galaxy"
   ]
  },
  {
   "cell_type": "code",
   "execution_count": 7,
   "metadata": {},
   "outputs": [],
   "source": [
    "# create the trees\n",
    "cdm_tree = spatial.cKDTree(cdm_galaxy_position_filtered)\n",
    "wdm_tree = spatial.cKDTree(wdm_galaxy_position_filtered)"
   ]
  },
  {
   "cell_type": "code",
   "execution_count": 8,
   "metadata": {},
   "outputs": [
    {
     "name": "stderr",
     "output_type": "stream",
     "text": [
      "100%|██████████████████████████████████████████████████████████████████████████████| 802/802 [00:00<00:00, 6637.05it/s]\n"
     ]
    }
   ],
   "source": [
    "# create an empty array for the indices of the galaxies\n",
    "cdm_3Mpc_sphere_galaxy = []\n",
    "\n",
    "# iterate through each MW-sized galaxy\n",
    "for i in trange(len(cdm_MW_galaxy_position)):\n",
    "    \n",
    "    # find the indices of all galaxies in a 3 Mpc radius around each MW-sized galaxy\n",
    "    ind = cdm_tree.query_ball_point(cdm_MW_galaxy_position[i], 3)\n",
    "    \n",
    "    # record the indices for each MW-sized galaxy\n",
    "    cdm_3Mpc_sphere_galaxy.append(ind)"
   ]
  },
  {
   "cell_type": "code",
   "execution_count": 9,
   "metadata": {},
   "outputs": [
    {
     "name": "stderr",
     "output_type": "stream",
     "text": [
      "100%|██████████████████████████████████████████████████████████████████████████████| 703/703 [00:00<00:00, 7485.38it/s]\n"
     ]
    }
   ],
   "source": [
    "# create an empty array for the indices of the galaxies\n",
    "wdm_3Mpc_sphere_galaxy = []\n",
    "\n",
    "# iterate through each MW-sized galaxy\n",
    "for i in trange(len(wdm_MW_galaxy_position)):\n",
    "    \n",
    "    # find the indices of all galaxies in a 3 Mpc radius around each MW-sized galaxy\n",
    "    ind = wdm_tree.query_ball_point(wdm_MW_galaxy_position[i], 3)\n",
    "    \n",
    "    # record the indices for each MW-sized galaxy\n",
    "    wdm_3Mpc_sphere_galaxy.append(ind)"
   ]
  },
  {
   "cell_type": "markdown",
   "metadata": {},
   "source": [
    "### Find all the galaxies within the Virial Radius of each MW-sized galaxy"
   ]
  },
  {
   "cell_type": "code",
   "execution_count": null,
   "metadata": {},
   "outputs": [],
   "source": [
    "# create an empty array for the indices of the galaxies\n",
    "cdm_VR_sphere_galaxy = []\n",
    "\n",
    "# iterate through each MW-sized galaxy\n",
    "for i in trange(len(cdm_MW_galaxy_position)):\n",
    "    \n",
    "    # find the indices of all galaxies in a 3 Mpc radius around each MW-sized galaxy\n",
    "    ind = cdm_tree.query_ball_point(cdm_MW_galaxy_position[i], cdm_galaxy['R200'][:][cdm_MW_galaxy_ind[i]])\n",
    "    \n",
    "    # record the indices for each MW-sized galaxy\n",
    "    cdm_VR_sphere_galaxy.append(ind)"
   ]
  },
  {
   "cell_type": "code",
   "execution_count": null,
   "metadata": {},
   "outputs": [],
   "source": [
    "# create an empty array for the indices of the galaxies\n",
    "wdm_VR_sphere_galaxy = []\n",
    "\n",
    "# iterate through each MW-sized galaxy\n",
    "for i in trange(len(wdm_MW_galaxy_position)):\n",
    "    \n",
    "    # find the indices of all galaxies in a 3 Mpc radius around each MW-sized galaxy\n",
    "    ind = wdm_tree.query_ball_point(wdm_MW_galaxy_position[i], wdm_galaxy['R200'][:][wdm_MW_galaxy_ind[i]])\n",
    "    \n",
    "    # record the indices for each MW-sized galaxy\n",
    "    wdm_VR_sphere_galaxy.append(ind)"
   ]
  },
  {
   "cell_type": "markdown",
   "metadata": {},
   "source": [
    "### Find the indices of galaxies in between the virial radius of each halo and 3 Mpc"
   ]
  },
  {
   "cell_type": "code",
   "execution_count": null,
   "metadata": {},
   "outputs": [],
   "source": [
    "# create an empty array for the indices of the galaxies that are not within the virial radius of each halo\n",
    "cdm_shell_galaxy = []\n",
    "\n",
    "# iterate through each MW-sized galaxy\n",
    "for i in trange(len(cdm_3Mpc_sphere_galaxy)):\n",
    "    \n",
    "    # find the indices of all galaxies that are not within the virial radius of each halo\n",
    "    ind = [j for j in cdm_3Mpc_sphere_galaxy[i] if j not in cdm_VR_sphere[i]]\n",
    "    \n",
    "    # record the indices for each MW-sized galaxy\n",
    "    cdm_shell_galaxy.append(ind)"
   ]
  },
  {
   "cell_type": "code",
   "execution_count": null,
   "metadata": {},
   "outputs": [],
   "source": [
    "# create an empty array for the indices of the galaxies that are not within the virial radius of each halo\n",
    "wdm_shell_galaxy = []\n",
    "\n",
    "# iterate through each MW-sized galaxy\n",
    "for i in trange(len(wdm_3Mpc_sphere_galaxy)):\n",
    "    \n",
    "    # find the indices of all galaxies that are not within the virial radius of each halo\n",
    "    ind = [j for j in wdm_3Mpc_sphere_galaxy[i] if j not in wdm_VR_sphere[i]]\n",
    "    \n",
    "    # record the indices for each MW-sized galaxy\n",
    "    wdm_shell_galaxy.append(ind)"
   ]
  },
  {
   "cell_type": "markdown",
   "metadata": {},
   "source": [
    "### Find their positions"
   ]
  },
  {
   "cell_type": "code",
   "execution_count": null,
   "metadata": {},
   "outputs": [],
   "source": []
  },
  {
   "cell_type": "markdown",
   "metadata": {},
   "source": [
    "# Find all halos that are as heavy as the Milky Way\n",
    "### Access the masses and positions of CDM and WDM halos"
   ]
  },
  {
   "cell_type": "code",
   "execution_count": 10,
   "metadata": {},
   "outputs": [
    {
     "name": "stdout",
     "output_type": "stream",
     "text": [
      "['IsCentral', 'R200', 'SubhaloMass', 'SubhaloPos'] ['IsCentral', 'R200', 'SubhaloMass', 'SubhaloPos']\n"
     ]
    },
    {
     "data": {
      "text/plain": [
       "(array([1.87617493e+14, 1.84468594e+14, 6.89978024e+13, ...,\n",
       "        1.76011232e+08, 1.76011232e+08, 1.76011232e+08]),\n",
       " array([[10.93832207, 81.23078918, 54.77935028],\n",
       "        [17.94562721, 79.86347961, 53.3843956 ],\n",
       "        [15.62266159, 78.18474579, 52.83857346],\n",
       "        ...,\n",
       "        [ 1.47748184,  3.54455233, 99.53264618],\n",
       "        [99.32190704,  2.56014371,  2.57368279],\n",
       "        [99.0621109 ,  4.18381071,  2.89533401]]),\n",
       " array([1.89941540e+14, 1.86912732e+14, 6.83256610e+13, ...,\n",
       "        1.76011232e+08, 1.76011232e+08, 1.76011232e+08]),\n",
       " array([[1.80150642e+01, 7.98655701e+01, 5.34328232e+01],\n",
       "        [1.09048624e+01, 8.12610779e+01, 5.48179703e+01],\n",
       "        [1.56323385e+01, 7.81665344e+01, 5.28157997e+01],\n",
       "        ...,\n",
       "        [6.02296066e+00, 5.05078554e+00, 9.79758301e+01],\n",
       "        [5.75055540e-01, 3.26677370e+00, 3.52767438e-01],\n",
       "        [2.07897183e-03, 3.23730040e+00, 9.97708917e-01]]))"
      ]
     },
     "execution_count": 10,
     "metadata": {},
     "output_type": "execute_result"
    }
   ],
   "source": [
    "# Access mass/position for wdm/cdm\n",
    "print(list(cdm.keys()),list(wdm.keys()))\n",
    "\n",
    "cdm_mass = cdm['SubhaloMass'][:]\n",
    "cdm_position = cdm['SubhaloPos'][:]\n",
    "\n",
    "wdm_mass = wdm['SubhaloMass'][:]\n",
    "wdm_position = wdm['SubhaloPos'][:]\n",
    "\n",
    "cdm_mass, cdm_position, wdm_mass, wdm_position"
   ]
  },
  {
   "cell_type": "markdown",
   "metadata": {},
   "source": [
    "### Find all central halos within the mass range $0.8-2*10^{12}$ M$_{\\odot}$"
   ]
  },
  {
   "cell_type": "code",
   "execution_count": 11,
   "metadata": {},
   "outputs": [
    {
     "data": {
      "text/plain": [
       "(1057, 1065)"
      ]
     },
     "execution_count": 11,
     "metadata": {},
     "output_type": "execute_result"
    }
   ],
   "source": [
    "# get the indices\n",
    "cdm_MW_ind = np.where((cdm_mass>0.8*10**12) & (cdm_mass<2*10**12) & (cdm['IsCentral'][:]==1))[0]\n",
    "wdm_MW_ind = np.where((wdm_mass>0.8*10**12) & (wdm_mass<2*10**12) & (wdm['IsCentral'][:]==1))[0]\n",
    "\n",
    "len(cdm_MW_ind), len(wdm_MW_ind)"
   ]
  },
  {
   "cell_type": "code",
   "execution_count": 12,
   "metadata": {},
   "outputs": [],
   "source": [
    "# get the positions\n",
    "cdm_MW_position = cdm_position[cdm_MW_ind]\n",
    "wdm_MW_position = wdm_position[wdm_MW_ind]"
   ]
  },
  {
   "cell_type": "markdown",
   "metadata": {},
   "source": [
    "### Find all the galaxies within 3 Mpc of each MW-sized halo"
   ]
  },
  {
   "cell_type": "code",
   "execution_count": 13,
   "metadata": {},
   "outputs": [
    {
     "name": "stderr",
     "output_type": "stream",
     "text": [
      "100%|████████████████████████████████████████████████████████████████████████████| 1057/1057 [00:00<00:00, 6666.13it/s]\n"
     ]
    }
   ],
   "source": [
    "# create an empty array for the indices of the galaxies\n",
    "cdm_3Mpc_sphere = []\n",
    "\n",
    "# iterate through each MW-sized galaxy\n",
    "for i in trange(len(cdm_MW_position)):\n",
    "    \n",
    "    # find the indices of all galaxies in a 3 Mpc radius around each MW-sized halo\n",
    "    ind = cdm_tree.query_ball_point(cdm_MW_position[i], 3)\n",
    "    \n",
    "    # record the indices for each MW-sized halo\n",
    "    cdm_3Mpc_sphere.append(ind)"
   ]
  },
  {
   "cell_type": "code",
   "execution_count": 14,
   "metadata": {},
   "outputs": [
    {
     "name": "stderr",
     "output_type": "stream",
     "text": [
      "100%|████████████████████████████████████████████████████████████████████████████| 1065/1065 [00:00<00:00, 6995.33it/s]\n"
     ]
    }
   ],
   "source": [
    "# create an empty array for the indices of the galaxies\n",
    "wdm_3Mpc_sphere = []\n",
    "\n",
    "# iterate through each MW-sized galaxy\n",
    "for i in trange(len(wdm_MW_position)):\n",
    "    \n",
    "    # find the indices of all galaxies in a 3 Mpc radius around each MW-sized halo\n",
    "    ind = wdm_tree.query_ball_point(wdm_MW_position[i], 3)\n",
    "    \n",
    "    # record the indices for each MW-sized halo\n",
    "    wdm_3Mpc_sphere.append(ind)"
   ]
  },
  {
   "cell_type": "markdown",
   "metadata": {},
   "source": [
    "### Find all the galaxies within the Virial Radius of each MW-sized halo"
   ]
  },
  {
   "cell_type": "code",
   "execution_count": 16,
   "metadata": {},
   "outputs": [
    {
     "name": "stderr",
     "output_type": "stream",
     "text": [
      "100%|██████████████████████████████████████████████████████████████████████████████| 1057/1057 [00:27<00:00, 38.06it/s]\n"
     ]
    }
   ],
   "source": [
    "# create an empty array for the indices of the galaxies\n",
    "cdm_VR_sphere = []\n",
    "\n",
    "# iterate through each MW-sized galaxy\n",
    "for i in trange(len(cdm_MW_position)):\n",
    "    \n",
    "    # find the indices of all galaxies in a 3 Mpc radius around each MW-sized galaxy\n",
    "    ind = cdm_tree.query_ball_point(cdm_MW_position[i], cdm['R200'][:][cdm_MW_ind[i]])\n",
    "    \n",
    "    # record the indices for each MW-sized halo\n",
    "    cdm_VR_sphere.append(ind)"
   ]
  },
  {
   "cell_type": "code",
   "execution_count": 17,
   "metadata": {},
   "outputs": [
    {
     "name": "stderr",
     "output_type": "stream",
     "text": [
      "100%|██████████████████████████████████████████████████████████████████████████████| 1065/1065 [00:20<00:00, 52.51it/s]\n"
     ]
    }
   ],
   "source": [
    "# create an empty array for the indices of the galaxies\n",
    "wdm_VR_sphere = []\n",
    "\n",
    "# iterate through each MW-sized galaxy\n",
    "for i in trange(len(wdm_MW_position)):\n",
    "    \n",
    "    # find the indices of all galaxies in a 3 Mpc radius around each MW-sized galaxy\n",
    "    ind = wdm_tree.query_ball_point(wdm_MW_position[i], wdm['R200'][:][wdm_MW_ind[i]])\n",
    "    \n",
    "    # record the indices for each MW-sized halo\n",
    "    wdm_VR_sphere.append(ind)"
   ]
  },
  {
   "cell_type": "markdown",
   "metadata": {},
   "source": [
    "### Find the indices of galaxies in between the virial radius of each halo and 3 Mpc"
   ]
  },
  {
   "cell_type": "code",
   "execution_count": 18,
   "metadata": {},
   "outputs": [
    {
     "name": "stderr",
     "output_type": "stream",
     "text": [
      "100%|████████████████████████████████████████████████████████████████████████████| 1057/1057 [00:00<00:00, 5312.58it/s]\n"
     ]
    }
   ],
   "source": [
    "# create an empty array for the indices of the galaxies that are not within the virial radius of each halo\n",
    "cdm_shell = []\n",
    "\n",
    "# iterate through each MW-sized halo\n",
    "for i in trange(len(cdm_3Mpc_sphere)):\n",
    "    \n",
    "    # find the indices of all galaxies that are not within the virial radius of each halo\n",
    "    ind = [j for j in cdm_3Mpc_sphere[i] if j not in cdm_VR_sphere[i]]\n",
    "    \n",
    "    # record the indices for each MW-sized halo\n",
    "    cdm_shell.append(ind)"
   ]
  },
  {
   "cell_type": "code",
   "execution_count": 19,
   "metadata": {},
   "outputs": [
    {
     "name": "stderr",
     "output_type": "stream",
     "text": [
      "100%|████████████████████████████████████████████████████████████████████████████| 1065/1065 [00:00<00:00, 7772.51it/s]\n"
     ]
    }
   ],
   "source": [
    "# create an empty array for the indices of the galaxies that are not within the virial radius of each halo\n",
    "wdm_shell = []\n",
    "\n",
    "# iterate through each MW-sized halo\n",
    "for i in trange(len(wdm_3Mpc_sphere)):\n",
    "    \n",
    "    # find the indices of all galaxies that are not within the virial radius of each halo\n",
    "    ind = [j for j in wdm_3Mpc_sphere[i] if j not in wdm_VR_sphere[i]]\n",
    "    \n",
    "    # record the indices for each MW-sized halo\n",
    "    wdm_shell.append(ind)"
   ]
  },
  {
   "cell_type": "markdown",
   "metadata": {},
   "source": [
    "### Find their positions"
   ]
  },
  {
   "cell_type": "code",
   "execution_count": null,
   "metadata": {},
   "outputs": [],
   "source": []
  }
 ],
 "metadata": {
  "kernelspec": {
   "display_name": "Python 3",
   "language": "python",
   "name": "python3"
  },
  "language_info": {
   "codemirror_mode": {
    "name": "ipython",
    "version": 3
   },
   "file_extension": ".py",
   "mimetype": "text/x-python",
   "name": "python",
   "nbconvert_exporter": "python",
   "pygments_lexer": "ipython3",
   "version": "3.8.5"
  }
 },
 "nbformat": 4,
 "nbformat_minor": 4
}
