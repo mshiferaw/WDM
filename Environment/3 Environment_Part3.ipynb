{
 "cells": [
  {
   "cell_type": "code",
   "execution_count": 1,
   "metadata": {},
   "outputs": [
    {
     "name": "stdout",
     "output_type": "stream",
     "text": [
      "<HDF5 file \"COLOR_CDM_DM_subHaloes_z0.00_v2.hdf5\" (mode r)> <HDF5 file \"COLOR_WDM_DM_subHaloes_z0.00_v2.hdf5\" (mode r)> <HDF5 file \"COLOR_CDM_galaxies.hdf5\" (mode r)> <HDF5 file \"COLOR_WDM_galaxies.hdf5\" (mode r)>\n"
     ]
    }
   ],
   "source": [
    "from matplotlib import pyplot as plt\n",
    "import h5py\n",
    "import numpy as np\n",
    "import matplotlib.gridspec as gridspec\n",
    "import random\n",
    "from astroML.correlation import two_point\n",
    "import stats\n",
    "from tqdm import *\n",
    "from scipy.spatial import distance\n",
    "from scipy import spatial\n",
    "\n",
    "cdm = h5py.File('Data/COLOR_CDM_DM_subHaloes_z0.00_v2.hdf5', 'r')\n",
    "wdm = h5py.File('Data/COLOR_WDM_DM_subHaloes_z0.00_v2.hdf5', 'r')\n",
    "\n",
    "cdm_galaxy = h5py.File('Data\\COLOR_CDM_galaxies.hdf5', 'r')\n",
    "wdm_galaxy = h5py.File('Data\\COLOR_WDM_galaxies.hdf5', 'r')\n",
    "\n",
    "print(cdm,wdm,cdm_galaxy,wdm_galaxy)"
   ]
  },
  {
   "cell_type": "markdown",
   "metadata": {},
   "source": [
    "# Access the masses and positions of CDM and WDM halos"
   ]
  },
  {
   "cell_type": "code",
   "execution_count": 2,
   "metadata": {},
   "outputs": [
    {
     "name": "stdout",
     "output_type": "stream",
     "text": [
      "['IsCentral', 'R200', 'SubhaloMass', 'SubhaloPos'] ['IsCentral', 'R200', 'SubhaloMass', 'SubhaloPos']\n"
     ]
    },
    {
     "data": {
      "text/plain": [
       "(array([1.87617493e+14, 1.84468594e+14, 6.89978024e+13, ...,\n",
       "        1.76011232e+08, 1.76011232e+08, 1.76011232e+08]),\n",
       " array([[10.93832207, 81.23078918, 54.77935028],\n",
       "        [17.94562721, 79.86347961, 53.3843956 ],\n",
       "        [15.62266159, 78.18474579, 52.83857346],\n",
       "        ...,\n",
       "        [ 1.47748184,  3.54455233, 99.53264618],\n",
       "        [99.32190704,  2.56014371,  2.57368279],\n",
       "        [99.0621109 ,  4.18381071,  2.89533401]]),\n",
       " array([1.89941540e+14, 1.86912732e+14, 6.83256610e+13, ...,\n",
       "        1.76011232e+08, 1.76011232e+08, 1.76011232e+08]),\n",
       " array([[1.80150642e+01, 7.98655701e+01, 5.34328232e+01],\n",
       "        [1.09048624e+01, 8.12610779e+01, 5.48179703e+01],\n",
       "        [1.56323385e+01, 7.81665344e+01, 5.28157997e+01],\n",
       "        ...,\n",
       "        [6.02296066e+00, 5.05078554e+00, 9.79758301e+01],\n",
       "        [5.75055540e-01, 3.26677370e+00, 3.52767438e-01],\n",
       "        [2.07897183e-03, 3.23730040e+00, 9.97708917e-01]]))"
      ]
     },
     "execution_count": 2,
     "metadata": {},
     "output_type": "execute_result"
    }
   ],
   "source": [
    "# Access mass/position for wdm/cdm\n",
    "print(list(cdm.keys()),list(wdm.keys()))\n",
    "\n",
    "cdm_mass = cdm['SubhaloMass'][:]\n",
    "cdm_position = cdm['SubhaloPos'][:]\n",
    "\n",
    "wdm_mass = wdm['SubhaloMass'][:]\n",
    "wdm_position = wdm['SubhaloPos'][:]\n",
    "\n",
    "cdm_mass, cdm_position, wdm_mass, wdm_position"
   ]
  },
  {
   "cell_type": "markdown",
   "metadata": {},
   "source": [
    "# Access the masses and positions of CDM and WDM galaxies"
   ]
  },
  {
   "cell_type": "code",
   "execution_count": 3,
   "metadata": {},
   "outputs": [
    {
     "name": "stdout",
     "output_type": "stream",
     "text": [
      "['Colour', 'GalaxyPos', 'IsCentral', 'StellarMass'] ['Colour', 'GalaxyPos', 'IsCentral', 'StellarMass']\n"
     ]
    },
    {
     "data": {
      "text/plain": [
       "(array([0.29584217, 0.29859257, 0.59355354, ..., 0.32156372, 0.59656096,\n",
       "        0.32803154]), array([[17.61932182, 79.06235504, 52.68593979],\n",
       "        [18.65647697, 80.58162689, 52.30108261],\n",
       "        [18.58250046, 80.91363525, 52.45199203],\n",
       "        ...,\n",
       "        [76.68208313, 28.50509262, 59.96631622],\n",
       "        [33.62237167,  9.74790382,  4.82571173],\n",
       "        [52.58901978, 44.79496765, 78.47211456]]), array([3873670.  , 5328977.  , 1002360.25, ..., 2697151.5 ,  542400.5 ,\n",
       "        2462471.  ]))"
      ]
     },
     "execution_count": 3,
     "metadata": {},
     "output_type": "execute_result"
    }
   ],
   "source": [
    "# Access mass/position for wdm/cdm\n",
    "print(list(cdm_galaxy.keys()),list(wdm_galaxy.keys()))\n",
    "\n",
    "cdm_galaxy_color = cdm_galaxy['Colour'][:]\n",
    "cdm_galaxy_position = cdm_galaxy['GalaxyPos'][:]\n",
    "cdm_galaxy_mass = cdm_galaxy['StellarMass'][:]\n",
    "\n",
    "wdm_galaxy_color = wdm_galaxy['Colour'][:]\n",
    "wdm_galaxy_position = wdm_galaxy['GalaxyPos'][:]\n",
    "wdm_galaxy_mass = wdm_galaxy['StellarMass'][:]\n",
    "\n",
    "cdm_galaxy_color, cdm_galaxy_position, cdm_galaxy_mass, \n",
    "wdm_galaxy_color, wdm_galaxy_position,wdm_galaxy_mass"
   ]
  },
  {
   "cell_type": "markdown",
   "metadata": {},
   "source": [
    "# Find central halos and central galaxies"
   ]
  },
  {
   "cell_type": "code",
   "execution_count": 4,
   "metadata": {},
   "outputs": [
    {
     "name": "stdout",
     "output_type": "stream",
     "text": [
      "[      0   20093   40287 ... 4770038 4770039 4770040]\n",
      "3961192\n",
      "[1 1 1 ... 1 1 1]\n"
     ]
    }
   ],
   "source": [
    "# find the indices of all the central halos\n",
    "cdm_central_ind = np.where(cdm['IsCentral'][:] == 1)[0]\n",
    "\n",
    "print(cdm_central_ind)\n",
    "print(len(cdm_mass[cdm_central_ind]))\n",
    "print(cdm['IsCentral'][:][cdm_central_ind])\n",
    "\n",
    "wdm_central_ind = np.where(wdm['IsCentral'][:] == 1)[0]"
   ]
  },
  {
   "cell_type": "code",
   "execution_count": 5,
   "metadata": {},
   "outputs": [
    {
     "name": "stdout",
     "output_type": "stream",
     "text": [
      "[1 1 1 ... 1 1 1]\n"
     ]
    }
   ],
   "source": [
    "cdm_galaxy_central_ind=np.where(cdm_galaxy['IsCentral'][:]==1)[0]\n",
    "wdm_galaxy_central_ind=np.where(wdm_galaxy['IsCentral'][:]==1)[0]\n",
    "print(cdm_galaxy['IsCentral'][:][cdm_galaxy_central_ind])"
   ]
  },
  {
   "cell_type": "markdown",
   "metadata": {},
   "source": [
    "# Import the sphere and envelope masses"
   ]
  },
  {
   "cell_type": "code",
   "execution_count": 6,
   "metadata": {},
   "outputs": [],
   "source": [
    "cdm_5Mpc_sphere_mass = np.genfromtxt(\"cdm_5Mpc_sphere_mass.txt\")\n",
    "wdm_5Mpc_sphere_mass = np.genfromtxt(\"wdm_5Mpc_sphere_mass.txt\")"
   ]
  },
  {
   "cell_type": "code",
   "execution_count": 7,
   "metadata": {},
   "outputs": [
    {
     "data": {
      "text/plain": [
       "(3961192, 3961192, 2609122, 2609122)"
      ]
     },
     "execution_count": 7,
     "metadata": {},
     "output_type": "execute_result"
    }
   ],
   "source": [
    "cdm_sphere_mass=cdm_5Mpc_sphere_mass-cdm_mass[cdm_central_ind]\n",
    "wdm_sphere_mass=wdm_5Mpc_sphere_mass-wdm_mass[wdm_central_ind]\n",
    "len(cdm_sphere_mass), len(cdm_central_ind),len(wdm_sphere_mass),len(wdm_central_ind)"
   ]
  },
  {
   "cell_type": "code",
   "execution_count": 8,
   "metadata": {},
   "outputs": [],
   "source": [
    "cdm_10Mpc_sphere_mass = np.genfromtxt(\"cdm_10Mpc_sphere_mass.txt\")\n",
    "wdm_10Mpc_sphere_mass = np.genfromtxt(\"wdm_10Mpc_sphere_mass.txt\")"
   ]
  },
  {
   "cell_type": "code",
   "execution_count": 9,
   "metadata": {},
   "outputs": [
    {
     "data": {
      "text/plain": [
       "(3961192, 2609122)"
      ]
     },
     "execution_count": 9,
     "metadata": {},
     "output_type": "execute_result"
    }
   ],
   "source": [
    "cdm_envelope_mass=cdm_10Mpc_sphere_mass-cdm_5Mpc_sphere_mass\n",
    "wdm_envelope_mass=wdm_10Mpc_sphere_mass-wdm_5Mpc_sphere_mass\n",
    "len(cdm_envelope_mass),len(wdm_envelope_mass)"
   ]
  },
  {
   "cell_type": "markdown",
   "metadata": {},
   "source": [
    "# Match the galaxy indices to the right halos"
   ]
  },
  {
   "cell_type": "code",
   "execution_count": 10,
   "metadata": {},
   "outputs": [
    {
     "data": {
      "text/plain": [
       "(3961192, 181751)"
      ]
     },
     "execution_count": 10,
     "metadata": {},
     "output_type": "execute_result"
    }
   ],
   "source": [
    "len(cdm_central_ind),len(cdm_galaxy_central_ind)"
   ]
  },
  {
   "cell_type": "code",
   "execution_count": 11,
   "metadata": {},
   "outputs": [
    {
     "data": {
      "text/plain": [
       "1"
      ]
     },
     "execution_count": 11,
     "metadata": {},
     "output_type": "execute_result"
    }
   ],
   "source": [
    "cdm_galaxy['IsCentral'][:][0]"
   ]
  },
  {
   "cell_type": "code",
   "execution_count": 12,
   "metadata": {},
   "outputs": [],
   "source": [
    "cdm_position_central = cdm_position[cdm_central_ind]\n",
    "wdm_position_central = wdm_position[wdm_central_ind]"
   ]
  },
  {
   "cell_type": "code",
   "execution_count": 13,
   "metadata": {},
   "outputs": [
    {
     "name": "stdout",
     "output_type": "stream",
     "text": [
      "150504 [  6.61166377   8.23489217  13.83543203 ... 102.68923204  61.53852688\n",
      "   7.22424264] 0.0\n"
     ]
    }
   ],
   "source": [
    "gal_now=cdm_galaxy_position[cdm_galaxy_central_ind]\n",
    "halo_now=cdm_position_central[0]\n",
    "\n",
    "dx=gal_now[:,0]-halo_now[0]\n",
    "dy=gal_now[:,1]-halo_now[1]\n",
    "dz=gal_now[:,2]-halo_now[2]\n",
    "\n",
    "r = np.sqrt( dx**2 + dy**2 + dz**2)\n",
    "print(np.argmin(r),r,np.min(r))"
   ]
  },
  {
   "cell_type": "code",
   "execution_count": 14,
   "metadata": {},
   "outputs": [
    {
     "data": {
      "text/plain": [
       "(array([18.01506424, 79.86557007, 53.43282318]), 369865)"
      ]
     },
     "execution_count": 14,
     "metadata": {},
     "output_type": "execute_result"
    }
   ],
   "source": [
    "wdm_position[0], np.argmax(cdm_galaxy_mass)"
   ]
  },
  {
   "cell_type": "markdown",
   "metadata": {},
   "source": [
    "### Jk this is stupid"
   ]
  },
  {
   "cell_type": "code",
   "execution_count": 15,
   "metadata": {},
   "outputs": [],
   "source": [
    "def distance(halo_list,galaxy):\n",
    "    distance = []\n",
    "    for i in trange(len(halo_list)):\n",
    "        d=0\n",
    "        for j in range(3):\n",
    "            d += (halo_list[i][j]-galaxy[j])**2\n",
    "        distance.append(d)\n",
    "    return distance"
   ]
  },
  {
   "cell_type": "code",
   "execution_count": 16,
   "metadata": {},
   "outputs": [
    {
     "name": "stdout",
     "output_type": "stream",
     "text": [
      "[2, 0, 0]\n"
     ]
    },
    {
     "name": "stderr",
     "output_type": "stream",
     "text": [
      "100%|████████████████████████████████████████████████████████████████████████████████████████████| 2/2 [00:00<?, ?it/s]\n"
     ]
    },
    {
     "name": "stdout",
     "output_type": "stream",
     "text": [
      "[5, 2]\n",
      "1 [0, 1, 0]\n"
     ]
    }
   ],
   "source": [
    "halo_list=[[2,0,0],[0,1,0]]\n",
    "print(halo_list[0])\n",
    "dist=distance(halo_list,[0,0,1])\n",
    "print(dist)\n",
    "print(np.argmin(dist),halo_list[np.argmin(dist)])"
   ]
  },
  {
   "cell_type": "code",
   "execution_count": 38,
   "metadata": {},
   "outputs": [],
   "source": [
    "# cdm_galaxy_iscentral=np.where(cdm_galaxy_central==1)[0]\n",
    "\n",
    "# diff=distance(cdm_position[cdm_central_ind],cdm_galaxy_position[0])\n",
    "# # print(diff)\n",
    "# print(np.argmin(diff),cdm_central_ind,cdm_central_ind[np.argmin(diff)])\n",
    "# cdm_galaxy_position[0]\n",
    "\n",
    "# cdm_halo_match=[]\n",
    "# for i in cdm_galaxy_iscentral:\n",
    "#     diff=distance(cdm_position[cdm_central_ind],cdm_galaxy_position[i])\n",
    "#     cdm_halo_match.append(cdm_central_ind[np.argmin(diff)])\n",
    "\n",
    "cdm_halo_match=[]\n",
    "for i in cdm_galaxy_central_ind:\n",
    "    diff=distance(cdm_position[cdm_central_ind],cdm_galaxy_position[i])\n",
    "    cdm_halo_match.append(cdm_central_ind[np.argmin(diff)])\n",
    "    \n",
    "print(cdm_halo_match)"
   ]
  },
  {
   "cell_type": "code",
   "execution_count": 17,
   "metadata": {},
   "outputs": [
    {
     "data": {
      "text/plain": [
       "{13420856320.0, 14573730816.0}"
      ]
     },
     "execution_count": 17,
     "metadata": {},
     "output_type": "execute_result"
    }
   ],
   "source": [
    "# set(cdm_galaxy_mass[cdm_galaxy_iscentral]).intersection(cdm_mass[cdm_central_ind])\n",
    "set(cdm_galaxy_mass[cdm_galaxy_central_ind]).intersection(cdm_mass[cdm_central_ind])"
   ]
  },
  {
   "cell_type": "markdown",
   "metadata": {},
   "source": [
    "# Let's do it the smart way: trees!"
   ]
  },
  {
   "cell_type": "code",
   "execution_count": 18,
   "metadata": {},
   "outputs": [],
   "source": [
    "cdm_tree = spatial.cKDTree(cdm_position_central)\n",
    "wdm_tree = spatial.cKDTree(wdm_position_central)"
   ]
  },
  {
   "cell_type": "code",
   "execution_count": 19,
   "metadata": {},
   "outputs": [],
   "source": [
    "cdm_galaxy_position_central=cdm_galaxy_position[cdm_galaxy_central_ind]\n",
    "wdm_galaxy_position_central=wdm_galaxy_position[wdm_galaxy_central_ind]\n",
    "\n",
    "cdm_halo_match=cdm_tree.query(cdm_galaxy_position_central)\n",
    "wdm_halo_match=wdm_tree.query(wdm_galaxy_position_central)"
   ]
  },
  {
   "cell_type": "markdown",
   "metadata": {},
   "source": [
    "### try flipping it"
   ]
  },
  {
   "cell_type": "code",
   "execution_count": 20,
   "metadata": {},
   "outputs": [],
   "source": [
    "cdm_tree = spatial.cKDTree(cdm_galaxy_position_central)\n",
    "wdm_tree = spatial.cKDTree(wdm_galaxy_position_central)\n",
    "\n",
    "cdm_halo_match=cdm_tree.query(cdm_position_central)\n",
    "wdm_halo_match=wdm_tree.query(wdm_position_central)"
   ]
  },
  {
   "cell_type": "code",
   "execution_count": 21,
   "metadata": {},
   "outputs": [
    {
     "name": "stdout",
     "output_type": "stream",
     "text": [
      "(array([0.00000000e+00, 5.29834535e-04, 0.00000000e+00, ...,\n",
      "       4.06106827e-01, 8.36804154e-01, 2.14681944e-01]), array([150504, 158855,  16902, ...,  38779, 123140, 118883])) 3802213\n"
     ]
    }
   ],
   "source": [
    "print(cdm_halo_match,len(np.where(cdm_halo_match[0]>0)[0]))"
   ]
  },
  {
   "cell_type": "code",
   "execution_count": 22,
   "metadata": {},
   "outputs": [
    {
     "data": {
      "text/plain": [
       "(3802213, (array([0.00000000e+00, 5.29834535e-04, 0.00000000e+00, ...,\n",
       "         4.06106827e-01, 8.36804154e-01, 2.14681944e-01]),\n",
       "  array([150504, 158855,  16902, ...,  38779, 123140, 118883])))"
      ]
     },
     "execution_count": 22,
     "metadata": {},
     "output_type": "execute_result"
    }
   ],
   "source": [
    "wdm_halo_match[0],cdm_tree.data, cdm_position_central\n",
    "len(np.where(cdm_halo_match[0]>0)[0]),cdm_halo_match"
   ]
  },
  {
   "cell_type": "code",
   "execution_count": 23,
   "metadata": {},
   "outputs": [
    {
     "name": "stdout",
     "output_type": "stream",
     "text": [
      "181751 4770041 3961192\n",
      "[150504 158855  16902 ...  38779 123140 118883]\n",
      "[7.00524749e+09 6.53881754e+09 7.46639688e+10 ... 3.09603758e+10\n",
      " 8.72135680e+09 9.04697754e+09]\n"
     ]
    },
    {
     "data": {
      "text/plain": [
       "array([7.00524749e+09, 6.53881754e+09, 7.46639688e+10, ...,\n",
       "       3.09603758e+10, 8.72135680e+09, 9.04697754e+09])"
      ]
     },
     "execution_count": 23,
     "metadata": {},
     "output_type": "execute_result"
    }
   ],
   "source": [
    "print(len(cdm_tree.data),len(cdm_position),len(cdm_position_central))\n",
    "print(cdm_halo_match[1])\n",
    "print(cdm_mass[cdm_central_ind][cdm_halo_match[1]])\n",
    "cdm_mass[cdm_central_ind][cdm_halo_match[1]]"
   ]
  },
  {
   "cell_type": "code",
   "execution_count": 24,
   "metadata": {},
   "outputs": [
    {
     "name": "stdout",
     "output_type": "stream",
     "text": [
      "3961192\n",
      "\n",
      "3961192\n"
     ]
    }
   ],
   "source": [
    "print(len(cdm_position[cdm_central_ind][cdm_halo_match[1]]))\n",
    "print()\n",
    "print(len(cdm_position[cdm_halo_match[1]]))\n",
    "#so they're different! --> cdm_halo_match corresponds to the indices of cdm_central_ind... right?"
   ]
  },
  {
   "cell_type": "markdown",
   "metadata": {},
   "source": [
    "### Check that all the central galaxies match exactly to one central halo"
   ]
  },
  {
   "cell_type": "code",
   "execution_count": 30,
   "metadata": {},
   "outputs": [
    {
     "name": "stdout",
     "output_type": "stream",
     "text": [
      "(array([0., 0., 0., ..., 0., 0., 0.]), array([    274,     499,   20990, ..., 1655642, 1834262, 2745669])) (array([0.23595377, 0.21104215, 0.2602075 , ..., 0.        , 0.        ,\n",
      "       0.        ]), array([704496, 355054, 141496, ..., 376772, 409690, 414022]))\n",
      "[85.82241821 98.96107483 19.9845314 ] [17.43208122 80.25539398 54.00876999]\n",
      "181751 181751 3961192\n",
      "1812\n",
      "[1 1 1 ... 1 1 1]\n"
     ]
    }
   ],
   "source": [
    "print(cdm_halo_match,wdm_halo_match)\n",
    "print(cdm_position[cdm_central_ind][cdm_halo_match[1][0]],cdm_galaxy_position[cdm_galaxy_central_ind[0]])\n",
    "print(len(cdm_halo_match[1]),len(cdm_galaxy_central_ind),len(cdm_central_ind))\n",
    "\n",
    "#success!\n",
    "print(len(np.where(cdm_halo_match[0]!=0)[0]))\n",
    "print(cdm['IsCentral'][:][cdm_central_ind][cdm_halo_match[1][np.where(cdm_halo_match[0]!=0)[0]]])\n",
    "# print(np.where(cdm['IsCentral'][:][cdm['IsCentral'][:][np.where(cdm_halo_match[0]!=0)[0]]]==0)[0])\n",
    "# len(np.where(cdm['IsCentral'][:][cdm_central_ind][cdm_halo_match[1]]==0)[0])\n",
    "# print(cdm_halo_match[0])"
   ]
  },
  {
   "cell_type": "markdown",
   "metadata": {},
   "source": [
    "# Filter out central halos smaller than the resolution limit!"
   ]
  },
  {
   "cell_type": "code",
   "execution_count": 26,
   "metadata": {},
   "outputs": [],
   "source": [
    "m_res = 8.8*10**6*50"
   ]
  },
  {
   "cell_type": "code",
   "execution_count": 27,
   "metadata": {},
   "outputs": [],
   "source": [
    "cdm_halo_match_ind_res=np.where(cdm_mass[cdm_central_ind][cdm_halo_match[1]]>m_res)[0]\n",
    "wdm_halo_match_ind_res=np.where(wdm_mass[wdm_central_ind][wdm_halo_match[1]]>m_res)[0]"
   ]
  },
  {
   "cell_type": "code",
   "execution_count": 28,
   "metadata": {},
   "outputs": [
    {
     "name": "stdout",
     "output_type": "stream",
     "text": [
      "[      0       1       2 ... 3961189 3961190 3961191] (array([0.00000000e+00, 5.29834535e-04, 0.00000000e+00, ...,\n",
      "       4.06106827e-01, 8.36804154e-01, 2.14681944e-01]), array([150504, 158855,  16902, ...,  38779, 123140, 118883]))\n",
      "3959523 3961192\n",
      "3802213\n"
     ]
    }
   ],
   "source": [
    "print(cdm_halo_match_ind_res,cdm_halo_match)\n",
    "print(len(cdm_halo_match_ind_res),len(cdm_halo_match[1]))\n",
    "print(len(np.where(cdm_halo_match[0]!=0)[0]))"
   ]
  },
  {
   "cell_type": "code",
   "execution_count": 42,
   "metadata": {},
   "outputs": [],
   "source": [
    "cdm_galaxy_position[cdm_galaxy_central_ind][cdm_halo_match_ind_res]"
   ]
  },
  {
   "cell_type": "markdown",
   "metadata": {},
   "source": [
    "### Start with CDM"
   ]
  },
  {
   "cell_type": "code",
   "execution_count": 30,
   "metadata": {},
   "outputs": [
    {
     "name": "stdout",
     "output_type": "stream",
     "text": [
      "3961192 181751 181751 181751\n"
     ]
    }
   ],
   "source": [
    "print(len(cdm_halo_match[1]),len(cdm_galaxy_position_central),\n",
    "len(cdm_galaxy_central_ind),len(cdm_position[cdm_galaxy_central_ind]))\n",
    "\n",
    "cdm_galaxy_central_ind_res=[]\n",
    "for i in trange(len(cdm_galaxy_central_ind)):\n",
    "    if cdm_mass[cdm_central_ind][cdm_halo_match[1][i]]>m_res:\n",
    "        cdm_galaxy_central_ind_res.append(cdm_galaxy_central_ind[i])"
   ]
  },
  {
   "cell_type": "code",
   "execution_count": 272,
   "metadata": {},
   "outputs": [
    {
     "name": "stdout",
     "output_type": "stream",
     "text": [
      "True\n",
      "180692 180692\n",
      "440000000.0\n"
     ]
    },
    {
     "data": {
      "text/plain": [
       "0"
      ]
     },
     "execution_count": 272,
     "metadata": {},
     "output_type": "execute_result"
    }
   ],
   "source": [
    "print(cdm_mass[cdm_central_ind][cdm_halo_match[1][0]]>m_res)\n",
    "print(len(cdm_galaxy_central_ind_res),len(cdm_halo_match_ind_res))\n",
    "print(m_res)\n",
    "\n",
    "np.savetxt(\"cdm_galaxy_central_ind_res.txt\", cdm_galaxy_central_ind_res, fmt = \"%i\")\n",
    "cdm_galaxy_central_ind_res"
   ]
  },
  {
   "cell_type": "markdown",
   "metadata": {},
   "source": [
    "### Repeat for WDM"
   ]
  },
  {
   "cell_type": "code",
   "execution_count": 32,
   "metadata": {},
   "outputs": [],
   "source": [
    "wdm_galaxy_central_ind_res=[]\n",
    "for i in trange(len(wdm_galaxy_central_ind)):\n",
    "    if wdm_mass[wdm_central_ind][wdm_halo_match[1][i]]>m_res:\n",
    "        wdm_galaxy_central_ind_res.append(wdm_galaxy_central_ind[i])"
   ]
  },
  {
   "cell_type": "code",
   "execution_count": 34,
   "metadata": {},
   "outputs": [],
   "source": [
    "np.savetxt(\"wdm_galaxy_central_ind_res.txt\", wdm_galaxy_central_ind_res, fmt = \"%i\")\n",
    "wdm_galaxy_central_ind_res"
   ]
  },
  {
   "cell_type": "markdown",
   "metadata": {},
   "source": [
    "# Now, search for surrounding galaxies within the virial radius"
   ]
  },
  {
   "cell_type": "code",
   "execution_count": 35,
   "metadata": {},
   "outputs": [],
   "source": [
    "cdm_tree = spatial.cKDTree(cdm_galaxy_position)\n",
    "wdm_tree = spatial.cKDTree(wdm_galaxy_position)"
   ]
  },
  {
   "cell_type": "code",
   "execution_count": 36,
   "metadata": {},
   "outputs": [
    {
     "data": {
      "text/plain": [
       "(array([ 1.12076938e+00, -9.99000000e+02, -9.99000000e+02, ...,\n",
       "         1.13220578e-02,  9.71429888e-03,  1.09097715e-02]),\n",
       " array([1, 0, 0, ..., 1, 1, 1], dtype=int64))"
      ]
     },
     "execution_count": 36,
     "metadata": {},
     "output_type": "execute_result"
    }
   ],
   "source": [
    "cdm['R200'][:],cdm['IsCentral'][:]"
   ]
  },
  {
   "cell_type": "markdown",
   "metadata": {},
   "source": [
    "### Filter out those below the resolution limit"
   ]
  },
  {
   "cell_type": "code",
   "execution_count": 37,
   "metadata": {},
   "outputs": [
    {
     "data": {
      "text/plain": [
       "(3961192, 1686837, 3959523, 181751)"
      ]
     },
     "execution_count": 37,
     "metadata": {},
     "output_type": "execute_result"
    }
   ],
   "source": [
    "cdm_central_ind_res=np.where(cdm_mass[cdm_central_ind]>m_res)[0]\n",
    "len(cdm_central_ind),len(cdm_central_ind_res),len(cdm_halo_match_ind_res),len(cdm_galaxy_central_ind)"
   ]
  },
  {
   "cell_type": "code",
   "execution_count": 38,
   "metadata": {},
   "outputs": [],
   "source": [
    "# create an empty array for the mass of the spheres\n",
    "cdm_galaxy_sphere_position = []\n",
    "\n",
    "#iterate through each central galaxy\n",
    "for i in trange(len(cdm_galaxy_central_ind_res)):\n",
    "    #find the indices for all halos in a virial radius around each central galaxy\n",
    "    ind = cdm_tree.query_ball_point(cdm_galaxy_position[cdm_galaxy_central_ind_res[i]], \n",
    "                                        cdm['R200'][:][cdm_galaxy_central_ind_res][cdm_halo_match_ind[i]])\n",
    "    #sum the mass of these halos\n",
    "    cdm_galaxy_sphere_position.append(cdm_galaxy_position[ind])"
   ]
  },
  {
   "cell_type": "code",
   "execution_count": 39,
   "metadata": {},
   "outputs": [],
   "source": [
    "#the indices are in the same order as cdm_galaxy_iscentral, which is in the same order as cdm_halo_match\n",
    "cdm_galaxy_sphere_position=np.array(cdm_galaxy_sphere_position)\n",
    "np.savetxt(\"cdm_galaxy_sphere_position.txt\", cdm_galaxy_sphere_position, fmt = \"%i\")"
   ]
  },
  {
   "cell_type": "code",
   "execution_count": 40,
   "metadata": {},
   "outputs": [],
   "source": [
    "# create an empty array for the mass of the spheres\n",
    "wdm_galaxy_sphere_position = []\n",
    "\n",
    "#iterate through each central galaxy\n",
    "for i in trange(len(wdm_galaxy_central_ind_res)):\n",
    "    #find the indices for all halos in a virial radius around each central galaxy\n",
    "    ind = wdm_tree.query_ball_point(wdm_galaxy_position[wdm_galaxy_central_ind_res[i]], \n",
    "                                        wdm['R200'][:][wdm_galaxy_central_ind_res][wdm_halo_match_ind[i]])\n",
    "    #sum the mass of these halos\n",
    "    wdm_galaxy_sphere_position.append(wdm_galaxy_position[ind])"
   ]
  },
  {
   "cell_type": "code",
   "execution_count": 41,
   "metadata": {},
   "outputs": [],
   "source": [
    "wdm_galaxy_sphere_position=np.array(wdm_galaxy_sphere_position)\n",
    "np.savetxt(\"wdm_galaxy_sphere_position.txt\", wdm_galaxy_sphere_position, fmt = \"%i\")"
   ]
  },
  {
   "cell_type": "code",
   "execution_count": null,
   "metadata": {},
   "outputs": [],
   "source": []
  }
 ],
 "metadata": {
  "kernelspec": {
   "display_name": "Python 3",
   "language": "python",
   "name": "python3"
  },
  "language_info": {
   "codemirror_mode": {
    "name": "ipython",
    "version": 3
   },
   "file_extension": ".py",
   "mimetype": "text/x-python",
   "name": "python",
   "nbconvert_exporter": "python",
   "pygments_lexer": "ipython3",
   "version": "3.6.8"
  }
 },
 "nbformat": 4,
 "nbformat_minor": 2
}
