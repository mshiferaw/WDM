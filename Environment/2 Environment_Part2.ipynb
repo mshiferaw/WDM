{
 "cells": [
  {
   "cell_type": "code",
   "execution_count": 6,
   "metadata": {},
   "outputs": [
    {
     "name": "stdout",
     "output_type": "stream",
     "text": [
      "<HDF5 file \"COLOR_CDM_DM_subHaloes_z0.00_v2.hdf5\" (mode r)> <HDF5 file \"COLOR_WDM_DM_subHaloes_z0.00_v2.hdf5\" (mode r)>\n"
     ]
    }
   ],
   "source": [
    "from matplotlib import pyplot as plt\n",
    "import h5py\n",
    "import numpy as np\n",
    "import matplotlib.gridspec as gridspec\n",
    "import random\n",
    "from astroML.correlation import two_point\n",
    "from scipy import spatial\n",
    "from tqdm import *\n",
    "\n",
    "cdm = h5py.File('Data/COLOR_CDM_DM_subHaloes_z0.00_v2.hdf5', 'r')\n",
    "wdm = h5py.File('Data/COLOR_WDM_DM_subHaloes_z0.00_v2.hdf5', 'r')\n",
    "\n",
    "print(cdm,wdm)"
   ]
  },
  {
   "cell_type": "markdown",
   "metadata": {},
   "source": [
    "# Access the masses and positions of CDM and WDM halos"
   ]
  },
  {
   "cell_type": "code",
   "execution_count": 8,
   "metadata": {},
   "outputs": [
    {
     "name": "stdout",
     "output_type": "stream",
     "text": [
      "['IsCentral', 'R200', 'SubhaloMass', 'SubhaloPos'] ['IsCentral', 'R200', 'SubhaloMass', 'SubhaloPos']\n"
     ]
    },
    {
     "data": {
      "text/plain": [
       "(array([1.87617493e+14, 1.84468594e+14, 6.89978024e+13, ...,\n",
       "        1.76011232e+08, 1.76011232e+08, 1.76011232e+08]),\n",
       " array([[10.93832207, 81.23078918, 54.77935028],\n",
       "        [17.94562721, 79.86347961, 53.3843956 ],\n",
       "        [15.62266159, 78.18474579, 52.83857346],\n",
       "        ...,\n",
       "        [ 1.47748184,  3.54455233, 99.53264618],\n",
       "        [99.32190704,  2.56014371,  2.57368279],\n",
       "        [99.0621109 ,  4.18381071,  2.89533401]]),\n",
       " array([1.89941540e+14, 1.86912732e+14, 6.83256610e+13, ...,\n",
       "        1.76011232e+08, 1.76011232e+08, 1.76011232e+08]),\n",
       " array([[1.80150642e+01, 7.98655701e+01, 5.34328232e+01],\n",
       "        [1.09048624e+01, 8.12610779e+01, 5.48179703e+01],\n",
       "        [1.56323385e+01, 7.81665344e+01, 5.28157997e+01],\n",
       "        ...,\n",
       "        [6.02296066e+00, 5.05078554e+00, 9.79758301e+01],\n",
       "        [5.75055540e-01, 3.26677370e+00, 3.52767438e-01],\n",
       "        [2.07897183e-03, 3.23730040e+00, 9.97708917e-01]]))"
      ]
     },
     "execution_count": 8,
     "metadata": {},
     "output_type": "execute_result"
    }
   ],
   "source": [
    "# Access mass/position for wdm/cdm\n",
    "print(list(cdm.keys()),list(wdm.keys()))\n",
    "\n",
    "cdm_mass = cdm['SubhaloMass'][:]\n",
    "cdm_position = cdm['SubhaloPos'][:]\n",
    "\n",
    "wdm_mass = wdm['SubhaloMass'][:]\n",
    "wdm_position = wdm['SubhaloPos'][:]\n",
    "\n",
    "cdm_mass, cdm_position, wdm_mass, wdm_position"
   ]
  },
  {
   "cell_type": "markdown",
   "metadata": {},
   "source": [
    "# Filter out central halos smaller than the resolution limit"
   ]
  },
  {
   "cell_type": "code",
   "execution_count": 17,
   "metadata": {},
   "outputs": [
    {
     "data": {
      "text/plain": [
       "440000000.0"
      ]
     },
     "execution_count": 17,
     "metadata": {},
     "output_type": "execute_result"
    }
   ],
   "source": [
    "m_res = 8.8*10**6*50\n",
    "m_res"
   ]
  },
  {
   "cell_type": "code",
   "execution_count": 22,
   "metadata": {},
   "outputs": [
    {
     "name": "stdout",
     "output_type": "stream",
     "text": [
      "[      0   20093   40287 ... 2633808 2633809 2633811]\n",
      "1686837\n",
      "[1 1 1 ... 1 1 1]\n"
     ]
    }
   ],
   "source": [
    "# find the indices of all the central halos\n",
    "cdm_central_ind = np.where((cdm['IsCentral'][:] == 1)&(cdm_mass>m_res))[0]\n",
    "\n",
    "print(cdm_central_ind)\n",
    "print(len(cdm_mass[cdm_central_ind]))\n",
    "print(cdm['IsCentral'][:][cdm_central_ind])\n",
    "\n",
    "wdm_central_ind = np.where((wdm['IsCentral'][:] == 1)&(wdm_mass>m_res))[0]"
   ]
  },
  {
   "cell_type": "markdown",
   "metadata": {},
   "source": [
    "# Create trees of the wdm and cdm positions"
   ]
  },
  {
   "cell_type": "code",
   "execution_count": 23,
   "metadata": {},
   "outputs": [],
   "source": [
    "cdm_position_central = cdm_position[cdm_central_ind]\n",
    "wdm_position_central = wdm_position[wdm_central_ind]\n",
    "\n",
    "cdm_tree = spatial.cKDTree(cdm_position)\n",
    "wdm_tree = spatial.cKDTree(wdm_position)"
   ]
  },
  {
   "cell_type": "markdown",
   "metadata": {},
   "source": [
    "# Find the mass of a 5 Mpc sphere around each central halo\n",
    "### CDM Halos "
   ]
  },
  {
   "cell_type": "code",
   "execution_count": 24,
   "metadata": {},
   "outputs": [
    {
     "name": "stderr",
     "output_type": "stream",
     "text": [
      "100%|██████████| 1686837/1686837 [37:03<00:00, 758.53it/s] \n"
     ]
    }
   ],
   "source": [
    "# create an empty array for the mass of the spheres\n",
    "cdm_5Mpc_sphere_mass = []\n",
    "\n",
    "#iterate through each central halo\n",
    "for i in trange(len(cdm_central_ind)):\n",
    "    #find the indices for all halos in a 5 Mpc radius around each central halo\n",
    "    cdm_ind = cdm_tree.query_ball_point(cdm_position_central[i], 5)\n",
    "    #sum the mass of these halos\n",
    "    cdm_5Mpc_sphere_mass.append(np.sum(cdm_mass[cdm_ind]))"
   ]
  },
  {
   "cell_type": "code",
   "execution_count": 26,
   "metadata": {},
   "outputs": [
    {
     "data": {
      "text/plain": [
       "(1686837, 1686837)"
      ]
     },
     "execution_count": 26,
     "metadata": {},
     "output_type": "execute_result"
    }
   ],
   "source": [
    "cdm_5Mpc_sphere_mass=np.array(cdm_5Mpc_sphere_mass)\n",
    "np.savetxt(\"cdm_5Mpc_sphere_mass_v2.txt\", cdm_5Mpc_sphere_mass, fmt = \"%f\")\n",
    "len(cdm_5Mpc_sphere_mass), len(cdm_central_ind)"
   ]
  },
  {
   "cell_type": "markdown",
   "metadata": {},
   "source": [
    "### WDM Halos"
   ]
  },
  {
   "cell_type": "code",
   "execution_count": 28,
   "metadata": {},
   "outputs": [
    {
     "name": "stderr",
     "output_type": "stream",
     "text": [
      "100%|██████████| 1123039/1123039 [15:46<00:00, 1186.15it/s]\n"
     ]
    }
   ],
   "source": [
    "# create an empty array for the mass of the spheres\n",
    "wdm_5Mpc_sphere_mass = []\n",
    "\n",
    "#iterate through each central halo\n",
    "for i in trange(len(wdm_central_ind)):\n",
    "    #find the indices for all halos in a 5 Mpc radius around each central halo\n",
    "    wdm_ind = wdm_tree.query_ball_point(wdm_position_central[i], 5)\n",
    "    #sum the mass of these halos\n",
    "    wdm_5Mpc_sphere_mass.append(np.sum(wdm_mass[wdm_ind]))"
   ]
  },
  {
   "cell_type": "code",
   "execution_count": 10,
   "metadata": {},
   "outputs": [
    {
     "name": "stdout",
     "output_type": "stream",
     "text": [
      "2609122 2609122\n"
     ]
    },
    {
     "data": {
      "text/plain": [
       "(array([2.93983253e+14, 5.90015914e+14, 3.62308758e+14, ...,\n",
       "        8.93088892e+12, 1.29342030e+13, 1.31540498e+13]),\n",
       " array([3.67286503e+14, 5.83136276e+14, 3.61040039e+14, ...,\n",
       "        2.98641776e+12, 2.02820383e+12, 2.04709863e+12]))"
      ]
     },
     "execution_count": 10,
     "metadata": {},
     "output_type": "execute_result"
    }
   ],
   "source": [
    "wdm_5Mpc_sphere_mass=np.array(wdm_5Mpc_sphere_mass)\n",
    "np.savetxt(\"wdm_5Mpc_sphere_mass_v2.txt\", wdm_5Mpc_sphere_mass, fmt = \"%f\")\n",
    "print(len(wdm_5Mpc_sphere_mass), len(wdm_central_ind))\n",
    "cdm_5Mpc_sphere_mass,wdm_5Mpc_sphere_mass"
   ]
  },
  {
   "cell_type": "markdown",
   "metadata": {},
   "source": [
    "# Subtract the mass of each central halo from each summed mass"
   ]
  },
  {
   "cell_type": "code",
   "execution_count": 11,
   "metadata": {},
   "outputs": [],
   "source": [
    "cdm_sphere_mass=cdm_5Mpc_sphere_mass-cdm_mass[cdm_central_ind]\n",
    "wdm_sphere_mass=wdm_5Mpc_sphere_mass-wdm_mass[wdm_central_ind]"
   ]
  },
  {
   "cell_type": "code",
   "execution_count": 12,
   "metadata": {},
   "outputs": [
    {
     "data": {
      "text/plain": [
       "(array([1.06365761e+14, 2.16812515e+14, 1.24312859e+14, ...,\n",
       "        8.93071291e+12, 1.29340270e+13, 1.31538738e+13]),\n",
       " array([1.77344964e+14, 1.99599119e+14, 1.18699043e+14, ...,\n",
       "        2.98624175e+12, 2.02802781e+12, 2.04692262e+12]))"
      ]
     },
     "execution_count": 12,
     "metadata": {},
     "output_type": "execute_result"
    }
   ],
   "source": [
    "cdm_sphere_mass,wdm_sphere_mass"
   ]
  },
  {
   "cell_type": "code",
   "execution_count": 31,
   "metadata": {},
   "outputs": [
    {
     "data": {
      "image/png": "[encoded data removed]",
      "text/plain": [
       "<Figure size 432x288 with 1 Axes>"
      ]
     },
     "metadata": {
      "needs_background": "light"
     },
     "output_type": "display_data"
    }
   ],
   "source": [
    "bins=np.logspace(np.log10(1e10),np.log10(1e14), 50)\n",
    "plt.hist(cdm_sphere_mass, bins=bins,label='CDM',density=True)\n",
    "plt.hist(wdm_sphere_mass,bins=bins,label='WDM',density=True)\n",
    "plt.xscale(\"Log\")\n",
    "plt.xlabel(\"Mass of 5 Mpc Sphere\", fontsize=16)\n",
    "plt.title(\"Histogram of Surrounding Spheres\", fontsize=16)\n",
    "plt.legend()\n",
    "plt.savefig('Mass_Histogram.pdf')\n",
    "plt.show()"
   ]
  },
  {
   "cell_type": "code",
   "execution_count": 32,
   "metadata": {},
   "outputs": [],
   "source": [
    "cdm_mass_central=cdm_mass[cdm_central_ind]\n",
    "wdm_mass_central=wdm_mass[wdm_central_ind]"
   ]
  },
  {
   "cell_type": "code",
   "execution_count": 33,
   "metadata": {},
   "outputs": [
    {
     "data": {
      "image/png": "[encoded data removed]",
      "text/plain": [
       "<Figure size 432x288 with 1 Axes>"
      ]
     },
     "metadata": {
      "needs_background": "light"
     },
     "output_type": "display_data"
    }
   ],
   "source": [
    "plt.scatter(cdm_mass_central,cdm_sphere_mass,label='CDM')\n",
    "plt.scatter(wdm_mass_central,wdm_sphere_mass,label='WDM')\n",
    "plt.plot([np.min(cdm_mass_central),np.max(cdm_mass_central)],[np.min(cdm_mass_central),np.max(cdm_mass_central)])\n",
    "plt.plot([np.min(wdm_mass_central),np.max(wdm_mass_central)],[np.min(wdm_mass_central),np.max(wdm_mass_central)])\n",
    "plt.xscale(\"Log\")\n",
    "plt.yscale(\"Log\")\n",
    "plt.xlabel('Central Halo Masses', fontsize=16)\n",
    "plt.ylabel('Mass of 5 Mpc Sphere', fontsize=16)\n",
    "plt.legend()\n",
    "plt.savefig('Mass_Scatter.pdf')\n",
    "plt.show()"
   ]
  },
  {
   "cell_type": "code",
   "execution_count": 34,
   "metadata": {},
   "outputs": [
    {
     "name": "stdout",
     "output_type": "stream",
     "text": [
      "187617492598784.0 176011232.0\n",
      "176011232.0 373203398557696.0\n"
     ]
    },
    {
     "data": {
      "text/plain": [
       "array([1.87617493e+14, 3.73203399e+14, 2.37995899e+14, ...,\n",
       "       1.76011232e+08, 1.76011232e+08, 1.76011232e+08])"
      ]
     },
     "execution_count": 34,
     "metadata": {},
     "output_type": "execute_result"
    }
   ],
   "source": [
    "print(cdm_mass_central[0],cdm_mass_central[-1])\n",
    "print(np.min(cdm_mass_central),np.max(cdm_mass_central))\n",
    "cdm_mass_central"
   ]
  },
  {
   "cell_type": "code",
   "execution_count": 35,
   "metadata": {},
   "outputs": [
    {
     "data": {
      "image/png": "[encoded data removed]",
      "text/plain": [
       "<Figure size 432x288 with 1 Axes>"
      ]
     },
     "metadata": {
      "needs_background": "light"
     },
     "output_type": "display_data"
    }
   ],
   "source": [
    "bins=np.logspace(np.log10(1e1),np.log10(1e7), 50)\n",
    "plt.hist(cdm_sphere_mass/cdm_mass_central,bins=bins,label='CDM', normed=True)\n",
    "plt.hist(wdm_sphere_mass/wdm_mass_central,bins=bins,label='WDM',normed=True)\n",
    "plt.xscale(\"Log\")\n",
    "plt.xlabel(\"Mass Ratio of Environment to Central Halo\", fontsize=16)\n",
    "plt.title(\"Histogram Mass Ratio\", fontsize=16)\n",
    "plt.legend()\n",
    "plt.savefig('Mass_Ratio_Histogram.pdf')\n",
    "plt.show()"
   ]
  },
  {
   "cell_type": "markdown",
   "metadata": {},
   "source": [
    "# Calculate the mass of a 10 Mpc sphere\n",
    "### Calculate CDM first"
   ]
  },
  {
   "cell_type": "code",
   "execution_count": 39,
   "metadata": {},
   "outputs": [],
   "source": [
    "# create an empty array for the mass of the spheres\n",
    "cdm_10Mpc_sphere_mass = []\n",
    "\n",
    "#iterate through each central halo\n",
    "for i in range(len(cdm_central_ind)):\n",
    "    #find the indices for all halos in a 10 Mpc radius around each central halo\n",
    "    cdm_ind = cdm_tree.query_ball_point(cdm_position_central[i], 10)\n",
    "    #sum the mass of these halos\n",
    "    cdm_10Mpc_sphere_mass.append(np.sum(cdm_mass[cdm_ind]))"
   ]
  },
  {
   "cell_type": "code",
   "execution_count": 40,
   "metadata": {},
   "outputs": [
    {
     "data": {
      "text/plain": [
       "(3961192, 3961192)"
      ]
     },
     "execution_count": 40,
     "metadata": {},
     "output_type": "execute_result"
    }
   ],
   "source": [
    "cdm_10Mpc_sphere_mass=np.array(cdm_10Mpc_sphere_mass)\n",
    "np.savetxt(\"cdm_10Mpc_sphere_mass_v2.txt\", cdm_10Mpc_sphere_mass, fmt = \"%f\")\n",
    "len(cdm_10Mpc_sphere_mass), len(cdm_central_ind)"
   ]
  },
  {
   "cell_type": "markdown",
   "metadata": {},
   "source": [
    "### Calculate WDM next"
   ]
  },
  {
   "cell_type": "code",
   "execution_count": 41,
   "metadata": {},
   "outputs": [],
   "source": [
    "# create an empty array for the mass of the spheres\n",
    "wdm_10Mpc_sphere_mass = []\n",
    "\n",
    "#iterate through each central halo\n",
    "for i in range(len(wdm_central_ind)):\n",
    "    #find the indices for all halos in a 10 Mpc radius around each central halo\n",
    "    wdm_ind = wdm_tree.query_ball_point(wdm_position_central[i], 10)\n",
    "    #sum the mass of these halos\n",
    "    wdm_10Mpc_sphere_mass.append(np.sum(wdm_mass[wdm_ind]))"
   ]
  },
  {
   "cell_type": "code",
   "execution_count": 42,
   "metadata": {},
   "outputs": [
    {
     "name": "stdout",
     "output_type": "stream",
     "text": [
      "2609122 2609122\n"
     ]
    },
    {
     "data": {
      "text/plain": [
       "(array([8.96204124e+14, 8.72560969e+14, 4.63726649e+14, ...,\n",
       "        1.50589487e+13, 1.78903889e+13, 2.07299164e+13]),\n",
       " array([9.00138930e+14, 8.61649026e+14, 4.55662479e+14, ...,\n",
       "        3.40352388e+13, 6.10856660e+12, 6.11876645e+12]))"
      ]
     },
     "execution_count": 42,
     "metadata": {},
     "output_type": "execute_result"
    }
   ],
   "source": [
    "wdm_10Mpc_sphere_mass=np.array(wdm_10Mpc_sphere_mass)\n",
    "np.savetxt(\"wdm_10Mpc_sphere_mass_v2.txt\", wdm_10Mpc_sphere_mass, fmt = \"%f\")\n",
    "print(len(wdm_10Mpc_sphere_mass), len(wdm_central_ind))\n",
    "cdm_10Mpc_sphere_mass,wdm_10Mpc_sphere_mass"
   ]
  },
  {
   "cell_type": "markdown",
   "metadata": {},
   "source": [
    "# Now subtract the mass of a 5 Mpc sphere!"
   ]
  },
  {
   "cell_type": "code",
   "execution_count": 43,
   "metadata": {},
   "outputs": [],
   "source": [
    "cdm_envelope_mass=cdm_10Mpc_sphere_mass-cdm_5Mpc_sphere_mass\n",
    "wdm_envelope_mass=wdm_10Mpc_sphere_mass-wdm_5Mpc_sphere_mass"
   ]
  },
  {
   "cell_type": "code",
   "execution_count": 44,
   "metadata": {},
   "outputs": [
    {
     "data": {
      "image/png": "[encoded data removed]",
      "text/plain": [
       "<Figure size 432x288 with 1 Axes>"
      ]
     },
     "metadata": {
      "needs_background": "light"
     },
     "output_type": "display_data"
    }
   ],
   "source": [
    "bins=np.logspace(np.log10(1e11),np.log10(1e15), 50)\n",
    "plt.hist(cdm_envelope_mass, bins=bins,label='CDM')\n",
    "plt.hist(wdm_envelope_mass,bins=bins,label='WDM')\n",
    "plt.xscale(\"Log\")\n",
    "plt.xlabel(\"Mass of 5 Mpc Envelope\", fontsize=16)\n",
    "plt.title(\"Histogram of Surrounding Envelopes\", fontsize=16)\n",
    "plt.legend()\n",
    "plt.savefig('Envelope_Mass_Histogram.pdf')\n",
    "plt.show()"
   ]
  }
 ],
 "metadata": {
  "kernelspec": {
   "display_name": "Python 3",
   "language": "python",
   "name": "python3"
  },
  "language_info": {
   "codemirror_mode": {
    "name": "ipython",
    "version": 3
   },
   "file_extension": ".py",
   "mimetype": "text/x-python",
   "name": "python",
   "nbconvert_exporter": "python",
   "pygments_lexer": "ipython3",
   "version": "3.6.8"
  }
 },
 "nbformat": 4,
 "nbformat_minor": 2
}
